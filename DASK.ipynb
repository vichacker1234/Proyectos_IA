{
  "nbformat": 4,
  "nbformat_minor": 0,
  "metadata": {
    "colab": {
      "name": "DASK.ipynb",
      "provenance": [],
      "collapsed_sections": [],
      "authorship_tag": "ABX9TyNFk0uIYqUuxFw4bWE9k3qP",
      "include_colab_link": true
    },
    "kernelspec": {
      "name": "python3",
      "display_name": "Python 3"
    },
    "language_info": {
      "name": "python"
    },
    "accelerator": "GPU",
    "gpuClass": "standard"
  },
  "cells": [
    {
      "cell_type": "markdown",
      "metadata": {
        "id": "view-in-github",
        "colab_type": "text"
      },
      "source": [
        "<a href=\"https://colab.research.google.com/github/vichacker1234/Proyectos_IA/blob/main/DASK.ipynb\" target=\"_parent\"><img src=\"https://colab.research.google.com/assets/colab-badge.svg\" alt=\"Open In Colab\"/></a>"
      ]
    },
    {
      "cell_type": "markdown",
      "source": [
        "## Introducción \n",
        "\n",
        "Es fácil comenzar con Dask retrasado, pero usarlo bien requiere algo de experiencia. Esta lección contiene sugerencias de mejores prácticas e incluye soluciones a problemas comunes"
      ],
      "metadata": {
        "id": "kgAzM_ZUkus8"
      }
    },
    {
      "cell_type": "markdown",
      "source": [
        "## Llamada retrasada a la función, no al resultado\n",
        "\n"
      ],
      "metadata": {
        "id": "G8WJg4mxmeZn"
      }
    },
    {
      "cell_type": "code",
      "source": [
        "from time import sleep\n",
        "\n",
        "def inc(x):\n",
        "    sleep(1)\n",
        "    return x + 1\n",
        "\n",
        "def add(x, y):\n",
        "    sleep(1)\n",
        "    return x + y"
      ],
      "metadata": {
        "id": "iA0AwzXE05NK"
      },
      "execution_count": null,
      "outputs": []
    },
    {
      "cell_type": "code",
      "source": [
        "from dask import delayed"
      ],
      "metadata": {
        "id": "66oS7Qa_zzqW"
      },
      "execution_count": null,
      "outputs": []
    },
    {
      "cell_type": "code",
      "execution_count": null,
      "metadata": {
        "colab": {
          "base_uri": "https://localhost:8080/"
        },
        "id": "hRHZjRBuj4G8",
        "outputId": "40a166de-4812-4d0e-aa07-92db1531867b"
      },
      "outputs": [
        {
          "output_type": "execute_result",
          "data": {
            "text/plain": [
              "Delayed('f-02e59ed7-cbba-4c24-ad33-39caed98fc01')"
            ]
          },
          "metadata": {},
          "execution_count": 6
        }
      ],
      "source": [
        "#Importar la librería dask\n",
        "import dask\n",
        "def f (x,y):\n",
        "  return(x+y)\n",
        "f(3,5)\n",
        "# Esta función la ejecuta de inmediato\n",
        "dask.delayed(f(1,2))\n",
        "\n",
        "# This executes delayed\n",
        "dask.delayed(f)(1, 2)\n",
        "\n"
      ]
    },
    {
      "cell_type": "markdown",
      "source": [
        "## Programar muchos cálculos a la vez"
      ],
      "metadata": {
        "id": "xawg_NfGmczu"
      }
    },
    {
      "cell_type": "code",
      "source": [
        "#Fucnión definida de base\n",
        "def h(x):\n",
        "  for i in range(len(x)):\n",
        "    print(x[i]**3)\n",
        "data=[1,2,3,4,5]    \n",
        "h(data)   "
      ],
      "metadata": {
        "id": "hP1fNCM87C9_",
        "colab": {
          "base_uri": "https://localhost:8080/"
        },
        "outputId": "3feeab32-c82b-4c7b-eaba-e8ce8783e0fa"
      },
      "execution_count": null,
      "outputs": [
        {
          "output_type": "stream",
          "name": "stdout",
          "text": [
            "1\n",
            "8\n",
            "27\n",
            "64\n",
            "125\n"
          ]
        }
      ]
    },
    {
      "cell_type": "code",
      "source": [
        "data=[1,2,3,4,5]\n",
        "#Se define una función\n",
        "def h(x):\n",
        "  for i in range(len(data)):\n",
        "    print(x[i]**3)\n",
        "   \n",
        "#Se define el vector A\n",
        "len(data)\n",
        "\n",
        "h(data)\n",
        "\n"
      ],
      "metadata": {
        "colab": {
          "base_uri": "https://localhost:8080/"
        },
        "id": "J8h5SThCpFbQ",
        "outputId": "33953eef-4586-493c-9dad-87823af5aef7"
      },
      "execution_count": null,
      "outputs": [
        {
          "output_type": "stream",
          "name": "stdout",
          "text": [
            "1\n",
            "8\n",
            "27\n",
            "64\n",
            "125\n"
          ]
        }
      ]
    },
    {
      "cell_type": "code",
      "source": [
        "#Código secuencial (incorrecto)\n",
        "results = []\n",
        "for x in data:\n",
        "    y = inc(x)\n",
        "    results.append(y)\n",
        "    \n",
        "total = sum(results)\n",
        "    "
      ],
      "metadata": {
        "id": "zg5d_5LX6Ctg"
      },
      "execution_count": null,
      "outputs": []
    },
    {
      "cell_type": "code",
      "source": [
        "#Código en paralelo\n",
        "results = []\n",
        "for x in data:\n",
        "    y = delayed(inc)(x)\n",
        "    results.append(y)\n",
        "    \n",
        "total = delayed(sum)(results)\n",
        "print(\"Before computing:\", total)  # Se va a observar el total antes de calcular\n",
        "result = total.compute()\n",
        "print(\"After computing :\", result)  # Calcular el tiempo después de que se calcula"
      ],
      "metadata": {
        "colab": {
          "base_uri": "https://localhost:8080/"
        },
        "id": "njFW9ILV6iB-",
        "outputId": "dbe87ff8-2324-4036-9b64-6efb90b33d20"
      },
      "execution_count": null,
      "outputs": [
        {
          "output_type": "stream",
          "name": "stdout",
          "text": [
            "Before computing: Delayed('sum-ffd3fb44-cf91-4db8-9207-875ea60a53cd')\n",
            "After computing : 20\n"
          ]
        }
      ]
    },
    {
      "cell_type": "code",
      "source": [
        " # Incorrecto\n",
        "# Avoid calling compute repeatedly\n",
        "results = []\n",
        "for x in L:\n",
        "    y = dask.delayed(f)(x)\n",
        "    results.append(y.compute())\n",
        "    results"
      ],
      "metadata": {
        "id": "8GDt2XHEDbQQ"
      },
      "execution_count": null,
      "outputs": []
    },
    {
      "cell_type": "code",
      "source": [
        "# Correcto\n",
        " \n",
        "# Collect many calls for one compute\n",
        "results = []\n",
        "for x in L:\n",
        "    y = dask.delayed(f)(x)\n",
        "    results.append(y)\n",
        "results = dask.compute(*results)"
      ],
      "metadata": {
        "id": "cuWa3g8pDiIQ"
      },
      "execution_count": null,
      "outputs": []
    },
    {
      "cell_type": "markdown",
      "source": [
        "## Evite el estado global\n",
        "\n",
        "Idealmente, sus operaciones no deberían depender del estado global. El uso del estado global puede funcionar si solo usa subprocesos, pero cuando se pasa a la computación distribuida o multiprocesamiento, es probable que encuentre errores confusos"
      ],
      "metadata": {
        "id": "X-GogTrp7RBN"
      }
    },
    {
      "cell_type": "code",
      "source": [
        "L=[]\n",
        "# Esto referencia a la variable global L\n",
        "\n",
        "@dask.delayed\n",
        "def f(x):\n",
        "    L.append(x)"
      ],
      "metadata": {
        "id": "dM3F22jt7Y80"
      },
      "execution_count": null,
      "outputs": []
    },
    {
      "cell_type": "markdown",
      "source": [
        "## Evite efectos colaterales\n"
      ],
      "metadata": {
        "id": "xrgsDaxN7o6d"
      }
    },
    {
      "cell_type": "code",
      "source": [
        "# Asegurarse de que las tareas demoradas sean calculadas\n",
        "\n",
        "x = dask.delayed(f)(1)\n",
        "#...\n",
        "dask.compute(x, ...)"
      ],
      "metadata": {
        "colab": {
          "base_uri": "https://localhost:8080/"
        },
        "id": "B5XZwqHOrzhR",
        "outputId": "51597025-c439-43ca-c385-7534b7bde26b"
      },
      "execution_count": null,
      "outputs": [
        {
          "output_type": "execute_result",
          "data": {
            "text/plain": [
              "(None, Ellipsis)"
            ]
          },
          "metadata": {},
          "execution_count": 20
        }
      ]
    },
    {
      "cell_type": "markdown",
      "source": [
        "## Divida los cálculos en muchas partes"
      ],
      "metadata": {
        "id": "ftKj6KdD8TZa"
      }
    },
    {
      "cell_type": "code",
      "source": [
        "# Erróneo\n",
        "\n",
        "def load(filename):\n",
        "    ...\n",
        "\n",
        "\n",
        "def process(filename):\n",
        "    ...\n",
        "\n",
        "\n",
        "def save(filename):\n",
        "    ...\n",
        "\n",
        "@dask.delayed\n",
        "def f(filenames):\n",
        "    results = []\n",
        "    for filename in filenames:\n",
        "        data = load(filename)\n",
        "        data = process(data)\n",
        "        result = save(data)\n",
        "\n",
        "    return results\n",
        "\n",
        "dask.compute(f(filenames))"
      ],
      "metadata": {
        "id": "Vu4qiQjo8WNA"
      },
      "execution_count": null,
      "outputs": []
    },
    {
      "cell_type": "markdown",
      "source": [
        "## Evite demasiadas tareas retrasadas\n",
        "\n",
        "Cada tarea retrasada tiene una sobrecarga de unos cientos de microsegundos. Por lo general, esto está bien, pero puede convertirse en un problema si aplica dask.delayed demasiado finamente. En este caso, a menudo es mejor dividir sus muchas tareas en lotes o usar una de las colecciones de Dask para ayudarlo."
      ],
      "metadata": {
        "id": "3KpfG3Rr9MTz"
      }
    },
    {
      "cell_type": "code",
      "source": [
        "# Too many tasks\n",
        "\n",
        "results = []\n",
        "for x in range(10000000):\n",
        "    y = dask.delayed(f)(x)\n",
        "    results.append(y)\n",
        "\n",
        "    \n",
        "# Use collections\n",
        "\n",
        "import dask.bag as db\n",
        "b = db.from_sequence(range(10000000), npartitions=1000)\n",
        "b = b.map(f)\n",
        "..."
      ],
      "metadata": {
        "id": "Y3GQ2pZr9SoI"
      },
      "execution_count": null,
      "outputs": []
    },
    {
      "cell_type": "code",
      "source": [
        "# Alternativamente, sin usar bag collection\n",
        "\n",
        "def batch(seq):\n",
        "    sub_results = []\n",
        "    for x in seq:\n",
        "        sub_results.append(f(x))\n",
        "    return sub_results\n",
        "\n",
        " batches = []\n",
        " for i in range(0, 10000000, 10000):\n",
        "     result_batch = dask.delayed(batch)(range(i, i + 10000))\n",
        "     batches.append(result_batch)"
      ],
      "metadata": {
        "id": "IQjwXeuKFt55"
      },
      "execution_count": null,
      "outputs": []
    },
    {
      "cell_type": "markdown",
      "source": [
        "## Evite llamar delayed dentro de funciones retrasadas\n",
        "\n",
        "A menudo, si es nuevo en el uso de Dask retrasado, realiza llamadas dask.delayed en todas partes y espera lo mejor. Si bien esto puede funcionar, generalmente es lento y da como resultado soluciones difíciles de entender.\n",
        "\n",
        "Por lo general, nunca llame a dask.delayed dentro de las funciones dask.delayed."
      ],
      "metadata": {
        "id": "lcYQmloaFwdA"
      }
    },
    {
      "cell_type": "code",
      "source": [
        "# Evitar: Delayed function calls delayed\n",
        "\n",
        "@dask.delayed\n",
        "def process_all(L):\n",
        "    result = []\n",
        "    for x in L:\n",
        "        y = dask.delayed(f)(x)\n",
        "        result.append(y)\n",
        "    return result\n",
        "\n",
        "\n",
        "\n",
        "# Normal function calls delayed\n",
        "\n",
        "def process_all(L):\n",
        "    result = []\n",
        "    for x in L:\n",
        "        y = dask.delayed(f)(x)\n",
        "        result.append(y)\n",
        "    return result"
      ],
      "metadata": {
        "id": "2zXssqydFx23"
      },
      "execution_count": null,
      "outputs": []
    },
    {
      "cell_type": "markdown",
      "source": [
        "## No llame a dask.delayed en otras colecciones de Dask\n",
        "\n",
        "Cuando coloca una matriz Dask o Dask DataFrame en una llamada retrasada, esa función recibirá el equivalente de NumPy o Pandas.\n",
        "\n",
        "Tenga en cuenta que si su matriz es grande, esto podría bloquear a sus trabajadores.\n",
        "\n",
        "En cambio, es más común usar métodos como da.map_blocks."
      ],
      "metadata": {
        "id": "o3P_CwQlF9YV"
      }
    },
    {
      "cell_type": "code",
      "source": [
        "# Incorrecto: Call delayed functions on Dask collections\n",
        "\n",
        "import dask.dataframe as dd\n",
        "df = dd.read_csv('/path/to/*.csv')\n",
        "\n",
        "dask.delayed(train)(df)\n",
        "\n",
        "#Correcto:  Use mapping methods if applicable\n",
        "\n",
        "import dask.dataframe as dd\n",
        "df = dd.read_csv('/path/to/*.csv')\n",
        "\n",
        "df.map_partitions(train)\n",
        "\n",
        "# O alternativamente,if the procedure doesn’t fit into a mapping, \n",
        "# you can always turn your arrays or dataframes into many delayed objects, for example\n",
        "\n",
        "import dask.dataframe as dd\n",
        "df = dd.read_csv('/path/to/*.csv')\n",
        "                 \n",
        "partitions = df.to_delayed()\n",
        "delayed_values = [dask.delayed(train)(part)\n",
        "                  for part in partitions]"
      ],
      "metadata": {
        "id": "NSjJ3jh8GEO9"
      },
      "execution_count": null,
      "outputs": []
    },
    {
      "cell_type": "markdown",
      "source": [
        "## Evite poner repetidamente grandes entradas en llamadas retrasadas\n",
        "\n",
        "Cada vez que pase un resultado concreto (cualquier cosa que no se retrase), Dask lo codificará de forma predeterminada para darle un nombre. Esto es bastante rápido (alrededor de 500 MB / s) pero puede ser lento si lo hace una y otra vez. En cambio, también es mejor retrasar sus datos.\n",
        "\n",
        "Esto es especialmente importante cuando se usa un clúster distribuido para evitar enviar sus datos por separado para cada llamada de función."
      ],
      "metadata": {
        "id": "kC0ScyanGHcn"
      }
    },
    {
      "cell_type": "code",
      "source": [
        "# No haga esto\n",
        "\n",
        "x = np.array(...)  # some large array\n",
        "\n",
        "results = [dask.delayed(train)(x, i)\n",
        "           for i in range(1000)]\n",
        "\n",
        "# En su lugar haga esto\n",
        "\n",
        "x = np.array(...)    # some large array\n",
        "x = dask.delayed(x)  # delay the data once\n",
        "\n",
        "results = [dask.delayed(train)(x, i)\n",
        "           for i in range(1000)]"
      ],
      "metadata": {
        "id": "TVQwaW7LGMOW"
      },
      "execution_count": null,
      "outputs": []
    }
  ]
}