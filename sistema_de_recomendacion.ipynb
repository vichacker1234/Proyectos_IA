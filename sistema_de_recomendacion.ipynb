{
  "nbformat": 4,
  "nbformat_minor": 0,
  "metadata": {
    "colab": {
      "name": "sistema_de_recomendacion.ipynb",
      "provenance": [],
      "collapsed_sections": [],
      "authorship_tag": "ABX9TyO3JGsdzkUWwvHFKj/+fOs9",
      "include_colab_link": true
    },
    "kernelspec": {
      "name": "python3",
      "display_name": "Python 3"
    },
    "language_info": {
      "name": "python"
    }
  },
  "cells": [
    {
      "cell_type": "markdown",
      "metadata": {
        "id": "view-in-github",
        "colab_type": "text"
      },
      "source": [
        "<a href=\"https://colab.research.google.com/github/vichacker1234/Proyectos_IA/blob/main/sistema_de_recomendacion.ipynb\" target=\"_parent\"><img src=\"https://colab.research.google.com/assets/colab-badge.svg\" alt=\"Open In Colab\"/></a>"
      ]
    },
    {
      "cell_type": "markdown",
      "source": [
        "## *Sistema de recomendación usando word2vec*\n",
        "\n"
      ],
      "metadata": {
        "id": "IXMnOrkwx901"
      }
    },
    {
      "cell_type": "code",
      "execution_count": 46,
      "metadata": {
        "id": "aIBaHD8cxSqw"
      },
      "outputs": [],
      "source": [
        "#Se importan las librerás más importantes\n",
        "import numpy as np\n",
        "import pandas as pd\n",
        "import matplotlib.pyplot as plt\n",
        "from tqdm import tqdm\n",
        "from gensim.models import Word2Vec\n",
        "import random\n",
        "import warnings;\n",
        "warnings.filterwarnings('ignore')"
      ]
    },
    {
      "cell_type": "code",
      "source": [
        "#Lectura del dataframe\n",
        "datos=pd.read_excel('/content/Online_Retail.xlsx')\n"
      ],
      "metadata": {
        "id": "Mt8HblD-zfQW"
      },
      "execution_count": 23,
      "outputs": []
    },
    {
      "cell_type": "code",
      "source": [
        "datos.head(10)"
      ],
      "metadata": {
        "colab": {
          "base_uri": "https://localhost:8080/",
          "height": 581
        },
        "id": "Y3buSSry1WCJ",
        "outputId": "4f38296a-d515-4a30-9aa8-b60bbce921d2"
      },
      "execution_count": 24,
      "outputs": [
        {
          "output_type": "execute_result",
          "data": {
            "text/plain": [
              "  InvoiceNo StockCode                          Description  Quantity  \\\n",
              "0    536365    85123A   WHITE HANGING HEART T-LIGHT HOLDER         6   \n",
              "1    536365     71053                  WHITE METAL LANTERN         6   \n",
              "2    536365    84406B       CREAM CUPID HEARTS COAT HANGER         8   \n",
              "3    536365    84029G  KNITTED UNION FLAG HOT WATER BOTTLE         6   \n",
              "4    536365    84029E       RED WOOLLY HOTTIE WHITE HEART.         6   \n",
              "5    536365     22752         SET 7 BABUSHKA NESTING BOXES         2   \n",
              "6    536365     21730    GLASS STAR FROSTED T-LIGHT HOLDER         6   \n",
              "7    536366     22633               HAND WARMER UNION JACK         6   \n",
              "8    536366     22632            HAND WARMER RED POLKA DOT         6   \n",
              "9    536367     84879        ASSORTED COLOUR BIRD ORNAMENT        32   \n",
              "\n",
              "          InvoiceDate  UnitPrice  CustomerID         Country  \n",
              "0 2010-12-01 08:26:00       2.55     17850.0  United Kingdom  \n",
              "1 2010-12-01 08:26:00       3.39     17850.0  United Kingdom  \n",
              "2 2010-12-01 08:26:00       2.75     17850.0  United Kingdom  \n",
              "3 2010-12-01 08:26:00       3.39     17850.0  United Kingdom  \n",
              "4 2010-12-01 08:26:00       3.39     17850.0  United Kingdom  \n",
              "5 2010-12-01 08:26:00       7.65     17850.0  United Kingdom  \n",
              "6 2010-12-01 08:26:00       4.25     17850.0  United Kingdom  \n",
              "7 2010-12-01 08:28:00       1.85     17850.0  United Kingdom  \n",
              "8 2010-12-01 08:28:00       1.85     17850.0  United Kingdom  \n",
              "9 2010-12-01 08:34:00       1.69     13047.0  United Kingdom  "
            ],
            "text/html": [
              "\n",
              "  <div id=\"df-c1c444f4-ed17-49c9-be78-930532a27d3e\">\n",
              "    <div class=\"colab-df-container\">\n",
              "      <div>\n",
              "<style scoped>\n",
              "    .dataframe tbody tr th:only-of-type {\n",
              "        vertical-align: middle;\n",
              "    }\n",
              "\n",
              "    .dataframe tbody tr th {\n",
              "        vertical-align: top;\n",
              "    }\n",
              "\n",
              "    .dataframe thead th {\n",
              "        text-align: right;\n",
              "    }\n",
              "</style>\n",
              "<table border=\"1\" class=\"dataframe\">\n",
              "  <thead>\n",
              "    <tr style=\"text-align: right;\">\n",
              "      <th></th>\n",
              "      <th>InvoiceNo</th>\n",
              "      <th>StockCode</th>\n",
              "      <th>Description</th>\n",
              "      <th>Quantity</th>\n",
              "      <th>InvoiceDate</th>\n",
              "      <th>UnitPrice</th>\n",
              "      <th>CustomerID</th>\n",
              "      <th>Country</th>\n",
              "    </tr>\n",
              "  </thead>\n",
              "  <tbody>\n",
              "    <tr>\n",
              "      <th>0</th>\n",
              "      <td>536365</td>\n",
              "      <td>85123A</td>\n",
              "      <td>WHITE HANGING HEART T-LIGHT HOLDER</td>\n",
              "      <td>6</td>\n",
              "      <td>2010-12-01 08:26:00</td>\n",
              "      <td>2.55</td>\n",
              "      <td>17850.0</td>\n",
              "      <td>United Kingdom</td>\n",
              "    </tr>\n",
              "    <tr>\n",
              "      <th>1</th>\n",
              "      <td>536365</td>\n",
              "      <td>71053</td>\n",
              "      <td>WHITE METAL LANTERN</td>\n",
              "      <td>6</td>\n",
              "      <td>2010-12-01 08:26:00</td>\n",
              "      <td>3.39</td>\n",
              "      <td>17850.0</td>\n",
              "      <td>United Kingdom</td>\n",
              "    </tr>\n",
              "    <tr>\n",
              "      <th>2</th>\n",
              "      <td>536365</td>\n",
              "      <td>84406B</td>\n",
              "      <td>CREAM CUPID HEARTS COAT HANGER</td>\n",
              "      <td>8</td>\n",
              "      <td>2010-12-01 08:26:00</td>\n",
              "      <td>2.75</td>\n",
              "      <td>17850.0</td>\n",
              "      <td>United Kingdom</td>\n",
              "    </tr>\n",
              "    <tr>\n",
              "      <th>3</th>\n",
              "      <td>536365</td>\n",
              "      <td>84029G</td>\n",
              "      <td>KNITTED UNION FLAG HOT WATER BOTTLE</td>\n",
              "      <td>6</td>\n",
              "      <td>2010-12-01 08:26:00</td>\n",
              "      <td>3.39</td>\n",
              "      <td>17850.0</td>\n",
              "      <td>United Kingdom</td>\n",
              "    </tr>\n",
              "    <tr>\n",
              "      <th>4</th>\n",
              "      <td>536365</td>\n",
              "      <td>84029E</td>\n",
              "      <td>RED WOOLLY HOTTIE WHITE HEART.</td>\n",
              "      <td>6</td>\n",
              "      <td>2010-12-01 08:26:00</td>\n",
              "      <td>3.39</td>\n",
              "      <td>17850.0</td>\n",
              "      <td>United Kingdom</td>\n",
              "    </tr>\n",
              "    <tr>\n",
              "      <th>5</th>\n",
              "      <td>536365</td>\n",
              "      <td>22752</td>\n",
              "      <td>SET 7 BABUSHKA NESTING BOXES</td>\n",
              "      <td>2</td>\n",
              "      <td>2010-12-01 08:26:00</td>\n",
              "      <td>7.65</td>\n",
              "      <td>17850.0</td>\n",
              "      <td>United Kingdom</td>\n",
              "    </tr>\n",
              "    <tr>\n",
              "      <th>6</th>\n",
              "      <td>536365</td>\n",
              "      <td>21730</td>\n",
              "      <td>GLASS STAR FROSTED T-LIGHT HOLDER</td>\n",
              "      <td>6</td>\n",
              "      <td>2010-12-01 08:26:00</td>\n",
              "      <td>4.25</td>\n",
              "      <td>17850.0</td>\n",
              "      <td>United Kingdom</td>\n",
              "    </tr>\n",
              "    <tr>\n",
              "      <th>7</th>\n",
              "      <td>536366</td>\n",
              "      <td>22633</td>\n",
              "      <td>HAND WARMER UNION JACK</td>\n",
              "      <td>6</td>\n",
              "      <td>2010-12-01 08:28:00</td>\n",
              "      <td>1.85</td>\n",
              "      <td>17850.0</td>\n",
              "      <td>United Kingdom</td>\n",
              "    </tr>\n",
              "    <tr>\n",
              "      <th>8</th>\n",
              "      <td>536366</td>\n",
              "      <td>22632</td>\n",
              "      <td>HAND WARMER RED POLKA DOT</td>\n",
              "      <td>6</td>\n",
              "      <td>2010-12-01 08:28:00</td>\n",
              "      <td>1.85</td>\n",
              "      <td>17850.0</td>\n",
              "      <td>United Kingdom</td>\n",
              "    </tr>\n",
              "    <tr>\n",
              "      <th>9</th>\n",
              "      <td>536367</td>\n",
              "      <td>84879</td>\n",
              "      <td>ASSORTED COLOUR BIRD ORNAMENT</td>\n",
              "      <td>32</td>\n",
              "      <td>2010-12-01 08:34:00</td>\n",
              "      <td>1.69</td>\n",
              "      <td>13047.0</td>\n",
              "      <td>United Kingdom</td>\n",
              "    </tr>\n",
              "  </tbody>\n",
              "</table>\n",
              "</div>\n",
              "      <button class=\"colab-df-convert\" onclick=\"convertToInteractive('df-c1c444f4-ed17-49c9-be78-930532a27d3e')\"\n",
              "              title=\"Convert this dataframe to an interactive table.\"\n",
              "              style=\"display:none;\">\n",
              "        \n",
              "  <svg xmlns=\"http://www.w3.org/2000/svg\" height=\"24px\"viewBox=\"0 0 24 24\"\n",
              "       width=\"24px\">\n",
              "    <path d=\"M0 0h24v24H0V0z\" fill=\"none\"/>\n",
              "    <path d=\"M18.56 5.44l.94 2.06.94-2.06 2.06-.94-2.06-.94-.94-2.06-.94 2.06-2.06.94zm-11 1L8.5 8.5l.94-2.06 2.06-.94-2.06-.94L8.5 2.5l-.94 2.06-2.06.94zm10 10l.94 2.06.94-2.06 2.06-.94-2.06-.94-.94-2.06-.94 2.06-2.06.94z\"/><path d=\"M17.41 7.96l-1.37-1.37c-.4-.4-.92-.59-1.43-.59-.52 0-1.04.2-1.43.59L10.3 9.45l-7.72 7.72c-.78.78-.78 2.05 0 2.83L4 21.41c.39.39.9.59 1.41.59.51 0 1.02-.2 1.41-.59l7.78-7.78 2.81-2.81c.8-.78.8-2.07 0-2.86zM5.41 20L4 18.59l7.72-7.72 1.47 1.35L5.41 20z\"/>\n",
              "  </svg>\n",
              "      </button>\n",
              "      \n",
              "  <style>\n",
              "    .colab-df-container {\n",
              "      display:flex;\n",
              "      flex-wrap:wrap;\n",
              "      gap: 12px;\n",
              "    }\n",
              "\n",
              "    .colab-df-convert {\n",
              "      background-color: #E8F0FE;\n",
              "      border: none;\n",
              "      border-radius: 50%;\n",
              "      cursor: pointer;\n",
              "      display: none;\n",
              "      fill: #1967D2;\n",
              "      height: 32px;\n",
              "      padding: 0 0 0 0;\n",
              "      width: 32px;\n",
              "    }\n",
              "\n",
              "    .colab-df-convert:hover {\n",
              "      background-color: #E2EBFA;\n",
              "      box-shadow: 0px 1px 2px rgba(60, 64, 67, 0.3), 0px 1px 3px 1px rgba(60, 64, 67, 0.15);\n",
              "      fill: #174EA6;\n",
              "    }\n",
              "\n",
              "    [theme=dark] .colab-df-convert {\n",
              "      background-color: #3B4455;\n",
              "      fill: #D2E3FC;\n",
              "    }\n",
              "\n",
              "    [theme=dark] .colab-df-convert:hover {\n",
              "      background-color: #434B5C;\n",
              "      box-shadow: 0px 1px 3px 1px rgba(0, 0, 0, 0.15);\n",
              "      filter: drop-shadow(0px 1px 2px rgba(0, 0, 0, 0.3));\n",
              "      fill: #FFFFFF;\n",
              "    }\n",
              "  </style>\n",
              "\n",
              "      <script>\n",
              "        const buttonEl =\n",
              "          document.querySelector('#df-c1c444f4-ed17-49c9-be78-930532a27d3e button.colab-df-convert');\n",
              "        buttonEl.style.display =\n",
              "          google.colab.kernel.accessAllowed ? 'block' : 'none';\n",
              "\n",
              "        async function convertToInteractive(key) {\n",
              "          const element = document.querySelector('#df-c1c444f4-ed17-49c9-be78-930532a27d3e');\n",
              "          const dataTable =\n",
              "            await google.colab.kernel.invokeFunction('convertToInteractive',\n",
              "                                                     [key], {});\n",
              "          if (!dataTable) return;\n",
              "\n",
              "          const docLinkHtml = 'Like what you see? Visit the ' +\n",
              "            '<a target=\"_blank\" href=https://colab.research.google.com/notebooks/data_table.ipynb>data table notebook</a>'\n",
              "            + ' to learn more about interactive tables.';\n",
              "          element.innerHTML = '';\n",
              "          dataTable['output_type'] = 'display_data';\n",
              "          await google.colab.output.renderOutput(dataTable, element);\n",
              "          const docLink = document.createElement('div');\n",
              "          docLink.innerHTML = docLinkHtml;\n",
              "          element.appendChild(docLink);\n",
              "        }\n",
              "      </script>\n",
              "    </div>\n",
              "  </div>\n",
              "  "
            ]
          },
          "metadata": {},
          "execution_count": 24
        }
      ]
    },
    {
      "cell_type": "markdown",
      "source": [
        "## *Descripción de las variables*\n",
        "* InvoiceNo: Número de factura. un número único asignado a cada transacción\n",
        "* StockCode: Código de producto/artículo. un número único asignado a cada producto distinto\n",
        "* Description: Descripción del producto\n",
        "* Quantity: Las cantidades de cada producto por transacción\n",
        "* InvoiceDate: Fecha y hora de la factura. El día y la hora en que se generó cada transacción\n",
        "* CustomerID: Número de cliente. Un número único asignado a cada cliente\n"
      ],
      "metadata": {
        "id": "8HsYaLbv2nCC"
      }
    },
    {
      "cell_type": "code",
      "source": [
        "#Número de observaciones y de variables \n",
        "datos.shape"
      ],
      "metadata": {
        "colab": {
          "base_uri": "https://localhost:8080/"
        },
        "id": "Wi_PNOvJ16lY",
        "outputId": "ab67eed4-ed69-4b58-aa97-f382b7f15a3f"
      },
      "execution_count": 26,
      "outputs": [
        {
          "output_type": "execute_result",
          "data": {
            "text/plain": [
              "(541909, 8)"
            ]
          },
          "metadata": {},
          "execution_count": 26
        }
      ]
    },
    {
      "cell_type": "markdown",
      "source": [
        "El modelo tiene 541909 transacciones o registros ques es bastante bueno para entrenar el modelo"
      ],
      "metadata": {
        "id": "8mX7gHyg3GdN"
      }
    },
    {
      "cell_type": "code",
      "source": [
        "#Ahora se va a analizar si hay datos perdidos (NAs)\n",
        "datos.isnull().sum()"
      ],
      "metadata": {
        "colab": {
          "base_uri": "https://localhost:8080/"
        },
        "id": "zUR-Uu2A3Nwo",
        "outputId": "a02caf24-d6cf-4e07-a06f-4b38ca9ba52c"
      },
      "execution_count": 27,
      "outputs": [
        {
          "output_type": "execute_result",
          "data": {
            "text/plain": [
              "InvoiceNo           0\n",
              "StockCode           0\n",
              "Description      1454\n",
              "Quantity            0\n",
              "InvoiceDate         0\n",
              "UnitPrice           0\n",
              "CustomerID     135080\n",
              "Country             0\n",
              "dtype: int64"
            ]
          },
          "metadata": {},
          "execution_count": 27
        }
      ]
    },
    {
      "cell_type": "markdown",
      "source": [
        "Aquí se puede apreciar que hay datos nulos"
      ],
      "metadata": {
        "id": "xT2GzHwK4Wuz"
      }
    },
    {
      "cell_type": "code",
      "source": [
        "datos.isna().sum()"
      ],
      "metadata": {
        "colab": {
          "base_uri": "https://localhost:8080/"
        },
        "id": "GBCNvW8D4VaS",
        "outputId": "244e5c17-b0c7-44bb-e624-a6208989af3b"
      },
      "execution_count": 28,
      "outputs": [
        {
          "output_type": "execute_result",
          "data": {
            "text/plain": [
              "InvoiceNo           0\n",
              "StockCode           0\n",
              "Description      1454\n",
              "Quantity            0\n",
              "InvoiceDate         0\n",
              "UnitPrice           0\n",
              "CustomerID     135080\n",
              "Country             0\n",
              "dtype: int64"
            ]
          },
          "metadata": {},
          "execution_count": 28
        }
      ]
    },
    {
      "cell_type": "markdown",
      "source": [
        "Como el tamaño de la muestra de registros es bastante grande, se procede a eliminar estas observaciones"
      ],
      "metadata": {
        "id": "8Fnxbe1b4jTf"
      }
    },
    {
      "cell_type": "code",
      "source": [
        "#Remover o eliminar nas\n",
        "datos.dropna(inplace=True)"
      ],
      "metadata": {
        "id": "Dh1wsDl94iep"
      },
      "execution_count": 29,
      "outputs": []
    },
    {
      "cell_type": "code",
      "source": [
        "#Se revisa nuevamente que no haya nas\n",
        "datos.isna().sum()"
      ],
      "metadata": {
        "colab": {
          "base_uri": "https://localhost:8080/"
        },
        "id": "otyjy-KZ5Zlj",
        "outputId": "5a9b981a-8f4f-4161-c7f3-7fee8830c4b3"
      },
      "execution_count": 30,
      "outputs": [
        {
          "output_type": "execute_result",
          "data": {
            "text/plain": [
              "InvoiceNo      0\n",
              "StockCode      0\n",
              "Description    0\n",
              "Quantity       0\n",
              "InvoiceDate    0\n",
              "UnitPrice      0\n",
              "CustomerID     0\n",
              "Country        0\n",
              "dtype: int64"
            ]
          },
          "metadata": {},
          "execution_count": 30
        }
      ]
    },
    {
      "cell_type": "markdown",
      "source": [
        "## Preparación del conjunto de datos\n",
        " Se va a cambiar el tipo de stockcode a string"
      ],
      "metadata": {
        "id": "9bav5b6f5gVM"
      }
    },
    {
      "cell_type": "code",
      "source": [
        "#Se cambia \n",
        "datos['StockCode']=datos['StockCode'].astype('str')"
      ],
      "metadata": {
        "id": "yv8V8ttk5fB4"
      },
      "execution_count": 34,
      "outputs": []
    },
    {
      "cell_type": "code",
      "source": [
        "type(datos['StockCode'])"
      ],
      "metadata": {
        "colab": {
          "base_uri": "https://localhost:8080/"
        },
        "id": "6mwhT1-S6HLb",
        "outputId": "edde9efa-59d3-480d-b623-5515f42bff20"
      },
      "execution_count": 35,
      "outputs": [
        {
          "output_type": "execute_result",
          "data": {
            "text/plain": [
              "pandas.core.series.Series"
            ]
          },
          "metadata": {},
          "execution_count": 35
        }
      ]
    },
    {
      "cell_type": "markdown",
      "source": [
        "Se va a revisar el número de clientes únicos en este conjunto de datos "
      ],
      "metadata": {
        "id": "Hgn2jljc6WFc"
      }
    },
    {
      "cell_type": "code",
      "source": [
        "customers = datos[\"CustomerID\"].unique().tolist()\n",
        "len(customers)"
      ],
      "metadata": {
        "colab": {
          "base_uri": "https://localhost:8080/"
        },
        "id": "bwhyAFTg6SFg",
        "outputId": "ac9c37b1-adb1-49af-fee9-3bfee4729999"
      },
      "execution_count": 36,
      "outputs": [
        {
          "output_type": "execute_result",
          "data": {
            "text/plain": [
              "4372"
            ]
          },
          "metadata": {},
          "execution_count": 36
        }
      ]
    },
    {
      "cell_type": "markdown",
      "source": [
        "En nuestro conjunto de datos hay 4.372 clientes. Para cada uno de estos clientes, extraeremos su historial de compras. En otras palabras, podemos tener 4.372 secuencias de compras."
      ],
      "metadata": {
        "id": "ZBpDfMDO6ksQ"
      }
    },
    {
      "cell_type": "markdown",
      "source": [
        "A partir de estas condiciones se va a establecer un conjunto de entranamiento y uno de test"
      ],
      "metadata": {
        "id": "sr5VoNqL6rLd"
      }
    },
    {
      "cell_type": "code",
      "source": [
        "#Se va a tomar el 80% del conjunto de datos para entrenamiento y el 20 % para validación\n",
        "\n",
        "#Elegir las identificaciones de los clientes\n",
        "random.shuffle(customers)\n",
        "\n",
        "# extraer el  80% de los ID's de los clientes \n",
        "customers_train = [customers[i] for i in range(round(0.8*len(customers)))]\n",
        "\n",
        "# dividir los datos en conjunto de entrenamiento y validación\n",
        "datos_entrenamiento = datos[datos['CustomerID'].isin(customers_train)]\n",
        "datos_validacion = datos[~datos['CustomerID'].isin(customers_train)]\n",
        "\n"
      ],
      "metadata": {
        "id": "TnCtvPrY6mMp"
      },
      "execution_count": 38,
      "outputs": []
    },
    {
      "cell_type": "markdown",
      "source": [
        "Se va a crear una secuencia de compras realizadas por los clientes en el conjunto de datos tanto para el conjunto de entrenamiento como para el de validación."
      ],
      "metadata": {
        "id": "OQs1JRH17nsw"
      }
    },
    {
      "cell_type": "code",
      "source": [
        "# lista para capturar el historial de compras de los clientes\n",
        "compra_entrenamiento = []\n",
        "\n",
        "# rellenar la lista con los códigos de los productos\n",
        "for i in tqdm(customers_train):\n",
        "    temp = datos_entrenamiento[datos_entrenamiento[\"CustomerID\"] == i][\"StockCode\"].tolist()\n",
        "    compra_entrenamiento.append(temp)"
      ],
      "metadata": {
        "colab": {
          "base_uri": "https://localhost:8080/"
        },
        "id": "9MahafPU7r1l",
        "outputId": "cd5b814b-53e0-4b6d-a913-517f44224daf"
      },
      "execution_count": 39,
      "outputs": [
        {
          "output_type": "stream",
          "name": "stderr",
          "text": [
            "100%|██████████| 3498/3498 [00:03<00:00, 891.89it/s]\n"
          ]
        }
      ]
    },
    {
      "cell_type": "code",
      "source": [
        "# lista para capturar el historial de compras de los clientes\n",
        "compra_validacion = []\n",
        "\n",
        "# populate the list with the product codes\n",
        "for i in tqdm(datos_validacion['CustomerID'].unique()):\n",
        "    temp = datos_validacion[datos_validacion[\"CustomerID\"] == i][\"StockCode\"].tolist()\n",
        "    compra_validacion.append(temp)"
      ],
      "metadata": {
        "colab": {
          "base_uri": "https://localhost:8080/"
        },
        "id": "i0ZLgT_v8M-y",
        "outputId": "1d73bb31-4077-4880-bc72-973b33e62333"
      },
      "execution_count": 41,
      "outputs": [
        {
          "output_type": "stream",
          "name": "stderr",
          "text": [
            "100%|██████████| 874/874 [00:00<00:00, 1253.33it/s]\n"
          ]
        }
      ]
    },
    {
      "cell_type": "markdown",
      "source": [
        "## Construir incrustaciones (embeddings) word2vec para los productos"
      ],
      "metadata": {
        "id": "UkbFLGC1898S"
      }
    },
    {
      "cell_type": "code",
      "source": [
        "# Entrenar el modelo word2vec\n",
        "modelo_word2vec = Word2Vec(window = 10, sg = 1, hs = 0,\n",
        "                 negative = 10, # for negative sampling\n",
        "                 alpha=0.03, min_alpha=0.0007,\n",
        "                 seed = 14)\n",
        "\n",
        "modelo_word2vec.build_vocab(compra_entrenamiento, progress_per=200)\n",
        "\n",
        "modelo_word2vec.train(compra_entrenamiento, total_examples = model.corpus_count, \n",
        "            epochs=10, report_delay=1)"
      ],
      "metadata": {
        "colab": {
          "base_uri": "https://localhost:8080/"
        },
        "id": "o6eyXB1u9GcU",
        "outputId": "890aea0b-e82c-47ba-d1ef-f035d9f2f84b"
      },
      "execution_count": 51,
      "outputs": [
        {
          "output_type": "execute_result",
          "data": {
            "text/plain": [
              "(3210152, 3245260)"
            ]
          },
          "metadata": {},
          "execution_count": 51
        }
      ]
    },
    {
      "cell_type": "markdown",
      "source": [
        "Como no tenemos previsto entrenar más el modelo, llamamos aquí a init_sims( ). Esto hará que el modelo sea mucho más eficiente en cuanto a memoria:"
      ],
      "metadata": {
        "id": "LKQauN4X9_JP"
      }
    },
    {
      "cell_type": "code",
      "source": [
        "modelo_word2vec.init_sims(replace=True)"
      ],
      "metadata": {
        "id": "Q0kfvPMN-A3V"
      },
      "execution_count": 53,
      "outputs": []
    },
    {
      "cell_type": "markdown",
      "source": [
        "Veamos un resumen del modelo que se ha creado"
      ],
      "metadata": {
        "id": "BXmLerBo-Irl"
      }
    },
    {
      "cell_type": "code",
      "source": [
        "print(modelo_word2vec)"
      ],
      "metadata": {
        "colab": {
          "base_uri": "https://localhost:8080/"
        },
        "id": "91aRIpSY-F7L",
        "outputId": "5e8ded87-e03e-4b4f-a725-8503750166b6"
      },
      "execution_count": 54,
      "outputs": [
        {
          "output_type": "stream",
          "name": "stdout",
          "text": [
            "Word2Vec(vocab=3132, size=100, alpha=0.03)\n"
          ]
        }
      ]
    },
    {
      "cell_type": "markdown",
      "source": [
        "Nuestro modelo tiene un vocabulario de 3.151 palabras únicas y sus vectores de tamaño 100 cada uno. A continuación, extraeremos los vectores de todas las palabras de nuestro vocabulario y los almacenaremos en un solo lugar para facilitar su acceso."
      ],
      "metadata": {
        "id": "m1EdPj47_STr"
      }
    },
    {
      "cell_type": "code",
      "source": [
        "# Se extraen todos los vectores ( se guarda como vecs)\n",
        "vecs = modelo_word2vec[modelo_word2vec.wv.vocab]\n",
        "\n",
        "vecs.shape"
      ],
      "metadata": {
        "colab": {
          "base_uri": "https://localhost:8080/"
        },
        "id": "vK-PjgwQ_WpD",
        "outputId": "a7cd5eea-4542-403c-93aa-5b9e6e9c3014"
      },
      "execution_count": 57,
      "outputs": [
        {
          "output_type": "execute_result",
          "data": {
            "text/plain": [
              "(3132, 100)"
            ]
          },
          "metadata": {},
          "execution_count": 57
        }
      ]
    },
    {
      "cell_type": "markdown",
      "source": [
        "Siempre es muy útil visualizar las incrustaciones que has creado. Aquí tenemos incrustaciones de 100 dimensiones. Ni siquiera podemos visualizar 4 dimensiones y mucho menos 100. ¿Qué podemos hacer?\n",
        "\n",
        "Vamos a reducir las dimensiones de las incrustaciones del producto de 100 a 2 utilizando el algoritmo UMAP. Este algoritmo es popularmente utilizado para la reducción de la dimensionalidad."
      ],
      "metadata": {
        "id": "g_8QFkhHBcAF"
      }
    },
    {
      "cell_type": "markdown",
      "source": [
        " Ahora, nuestro siguiente paso es sugerir productos similares para un determinado producto o un vector de productos."
      ],
      "metadata": {
        "id": "cObMHe0lC1We"
      }
    },
    {
      "cell_type": "code",
      "source": [
        "productos = datos_entrenamiento[[\"StockCode\", \"Description\"]]\n",
        "\n",
        "# remover duplicados\n",
        "productos.drop_duplicates(inplace=True, subset='StockCode', keep=\"last\")\n",
        "\n",
        "# crear un diccionario de ID de producto y descripción de producto\n",
        "productos_dict = productos.groupby('StockCode')['Description'].apply(list).to_dict()"
      ],
      "metadata": {
        "id": "M5M68rDiCoY2"
      },
      "execution_count": 66,
      "outputs": []
    },
    {
      "cell_type": "code",
      "source": [
        "#Revisar el diccionario\n",
        "# test the dictionary\n",
        "productos_dict['71053']"
      ],
      "metadata": {
        "colab": {
          "base_uri": "https://localhost:8080/"
        },
        "id": "adbDVtkFDRvt",
        "outputId": "1c6b3648-bb58-4433-d93d-d3b8b5fa1490"
      },
      "execution_count": 70,
      "outputs": [
        {
          "output_type": "execute_result",
          "data": {
            "text/plain": [
              "['WHITE MOROCCAN METAL LANTERN']"
            ]
          },
          "metadata": {},
          "execution_count": 70
        }
      ]
    },
    {
      "cell_type": "markdown",
      "source": [
        "Se ha definido la función siguiente. Tomará un vector de productos (n) como entrada y devolverá los 6 mejores productos similares:*texto en cursiva*"
      ],
      "metadata": {
        "id": "sdu4PVoRIvQV"
      }
    },
    {
      "cell_type": "code",
      "source": [
        "#Se define la función similar_productos\n",
        "def similar_productos(v, n = 6):\n",
        "    \n",
        "    # extract most similar products for the input vector\n",
        "    ms = modelo_word2vec.similar_by_vector(v, topn= n+1)[1:]\n",
        "    \n",
        "    # extract name and similarity score of the similar products\n",
        "    new_ms = []\n",
        "    for j in ms:\n",
        "        pair = (productos_dict[j[0]][0], j[1])\n",
        "        new_ms.append(pair)\n",
        "        \n",
        "    return new_ms        "
      ],
      "metadata": {
        "id": "2-MyaM_ZI1Af"
      },
      "execution_count": 71,
      "outputs": []
    },
    {
      "cell_type": "markdown",
      "source": [
        "Probemos nuestra función pasando el vector del producto '90019A'(‘SILVER M.O.P ORBIT BRACELET’):"
      ],
      "metadata": {
        "id": "byj4vu3EJDyG"
      }
    },
    {
      "cell_type": "code",
      "source": [
        "similar_productos(modelo_word2vec['90019A'])"
      ],
      "metadata": {
        "colab": {
          "base_uri": "https://localhost:8080/"
        },
        "id": "4FoWzOqwJC65",
        "outputId": "ad030707-7928-4852-aac8-d9194469ec83"
      },
      "execution_count": 73,
      "outputs": [
        {
          "output_type": "execute_result",
          "data": {
            "text/plain": [
              "[('AMBER DROP EARRINGS W LONG BEADS', 0.7762057185173035),\n",
              " ('JADE DROP EARRINGS W FILIGREE', 0.7747208476066589),\n",
              " ('SILVER M.O.P. ORBIT NECKLACE', 0.7658032774925232),\n",
              " ('SILVER HOOP EARRINGS WITH FLOWER', 0.7551912665367126),\n",
              " ('SILVER ROCCOCO CHANDELIER', 0.7453089356422424),\n",
              " ('AMBER GLASS/SILVER BRACELET', 0.7451914548873901)]"
            ]
          },
          "metadata": {},
          "execution_count": 73
        }
      ]
    },
    {
      "cell_type": "markdown",
      "source": [
        "Los resultados son bastante relevantes y se ajustan bien al producto de entrada. Sin embargo, este resultado se basa en el vector de un solo producto. ¿Qué pasa si queremos recomendar productos basados en las múltiples compras que el usuario ha hecho en el pasado?\n"
      ],
      "metadata": {
        "id": "eiTPaW8nJf0c"
      }
    },
    {
      "cell_type": "markdown",
      "source": [
        "Una solución sencilla es tomar la media de todos los vectores de los productos que el usuario ha comprado hasta ahora y utilizar este vector resultante para encontrar productos similares. Utilizaremos la siguiente función que toma una lista de ID de productos y da un vector de 100 dimensiones que es una media de los vectores de los productos de la lista de entrada:"
      ],
      "metadata": {
        "id": "rCCsXzTpJmGw"
      }
    },
    {
      "cell_type": "code",
      "source": [
        "#Se define la función vectores_agregados\n",
        "def vectores_agregados(productos):\n",
        "    product_vec = []\n",
        "    for i in productos:\n",
        "        try:\n",
        "            product_vec.append(modelo_word2vec[i])\n",
        "        except KeyError:\n",
        "            continue\n",
        "        \n",
        "    return np.mean(product_vec, axis=0)"
      ],
      "metadata": {
        "id": "T0gDFRbsJhdK"
      },
      "execution_count": 76,
      "outputs": []
    },
    {
      "cell_type": "markdown",
      "source": [
        "Recordemos que ya hemos creado una lista separada de secuencias de compra para fines de validación. Ahora vamos a utilizarla.\n"
      ],
      "metadata": {
        "id": "83lUY6DjKDbi"
      }
    },
    {
      "cell_type": "code",
      "source": [
        "len(compra_validacion[0])"
      ],
      "metadata": {
        "colab": {
          "base_uri": "https://localhost:8080/"
        },
        "id": "OU4UczRxKK-V",
        "outputId": "a6897cd2-7c37-4eb1-9176-a2b3313e65b4"
      },
      "execution_count": 78,
      "outputs": [
        {
          "output_type": "execute_result",
          "data": {
            "text/plain": [
              "1011"
            ]
          },
          "metadata": {},
          "execution_count": 78
        }
      ]
    },
    {
      "cell_type": "markdown",
      "source": [
        "La longitud de la primera lista de productos comprados por un usuario es 1011. Pasaremos esta secuencia de productos del conjunto de validación a la función 'vectores_agregados'."
      ],
      "metadata": {
        "id": "VY4jhIRAKWX1"
      }
    },
    {
      "cell_type": "code",
      "source": [
        "vectores_agregados(compra_validacion[0]).shape"
      ],
      "metadata": {
        "colab": {
          "base_uri": "https://localhost:8080/"
        },
        "id": "j4NNDzmmKbF2",
        "outputId": "357914c4-e932-4687-c762-8da52967999d"
      },
      "execution_count": 79,
      "outputs": [
        {
          "output_type": "execute_result",
          "data": {
            "text/plain": [
              "(100,)"
            ]
          },
          "metadata": {},
          "execution_count": 79
        }
      ]
    },
    {
      "cell_type": "markdown",
      "source": [
        "Bien, la función ha devuelto un array de 100 dimensiones. Esto significa que la función está funcionando bien. Ahora podemos utilizar este resultado para obtener los productos más similares:"
      ],
      "metadata": {
        "id": "5Zxcc5FgKmcN"
      }
    },
    {
      "cell_type": "code",
      "source": [
        "similar_productos(vectores_agregados(compra_validacion[0]))"
      ],
      "metadata": {
        "colab": {
          "base_uri": "https://localhost:8080/"
        },
        "id": "QzAMy3JpKoPG",
        "outputId": "cfc01bfa-e25e-4403-808f-4cc99add2119"
      },
      "execution_count": 80,
      "outputs": [
        {
          "output_type": "execute_result",
          "data": {
            "text/plain": [
              "[('RECIPE BOX WITH METAL HEART', 0.6766895055770874),\n",
              " ('POLYESTER FILLER PAD 65CMx65CM', 0.660896897315979),\n",
              " ('REGENCY CAKESTAND 3 TIER', 0.6564865708351135),\n",
              " ('SET/5 RED RETROSPOT LID GLASS BOWLS', 0.6525031328201294),\n",
              " ('WOOD BLACK BOARD ANT WHITE FINISH', 0.6455643177032471),\n",
              " ('WHITE HANGING HEART T-LIGHT HOLDER', 0.6395620107650757)]"
            ]
          },
          "metadata": {},
          "execution_count": 80
        }
      ]
    },
    {
      "cell_type": "markdown",
      "source": [
        "Resulta que nuestro sistema ha recomendado 6 productos basándose en todo el historial de compras de un usuario. Además, si desea obtener sugerencias de productos basadas en las últimas compras, sólo entonces también puede utilizar el mismo conjunto de funciones.\n",
        "\n",
        "A continuación, estoy dando sólo los últimos 10 productos comprados como entrada:"
      ],
      "metadata": {
        "id": "TE_5ULYrK_GB"
      }
    },
    {
      "cell_type": "code",
      "source": [
        "similar_productos(vectores_agregados(compra_validacion[1][-10:]))"
      ],
      "metadata": {
        "colab": {
          "base_uri": "https://localhost:8080/"
        },
        "id": "ZjyB6I6IK-sz",
        "outputId": "5f2feeff-12a5-4631-946d-fbeed7460786"
      },
      "execution_count": 82,
      "outputs": [
        {
          "output_type": "execute_result",
          "data": {
            "text/plain": [
              "[('ALARM CLOCK BAKELIKE GREEN', 0.7768344879150391),\n",
              " ('ALARM CLOCK BAKELIKE RED ', 0.7598289847373962),\n",
              " ('ALARM CLOCK BAKELIKE CHOCOLATE', 0.7572663426399231),\n",
              " ('ALARM CLOCK BAKELIKE PINK', 0.7219333052635193),\n",
              " ('ALARM CLOCK BAKELIKE ORANGE', 0.664379358291626),\n",
              " ('BAG 250g SWIRLY MARBLES', 0.5926131010055542)]"
            ]
          },
          "metadata": {},
          "execution_count": 82
        }
      ]
    }
  ]
}