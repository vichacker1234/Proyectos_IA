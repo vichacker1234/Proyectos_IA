{
  "nbformat": 4,
  "nbformat_minor": 0,
  "metadata": {
    "colab": {
      "name": "Librería_Numpy.ipynb",
      "provenance": [],
      "collapsed_sections": [],
      "authorship_tag": "ABX9TyMeopIuDJpPUzmgNICbEwmn",
      "include_colab_link": true
    },
    "kernelspec": {
      "name": "python3",
      "display_name": "Python 3"
    },
    "language_info": {
      "name": "python"
    }
  },
  "cells": [
    {
      "cell_type": "markdown",
      "metadata": {
        "id": "view-in-github",
        "colab_type": "text"
      },
      "source": [
        "<a href=\"https://colab.research.google.com/github/vichacker1234/Proyectos_IA/blob/main/Librer%C3%ADa_Numpy.ipynb\" target=\"_parent\"><img src=\"https://colab.research.google.com/assets/colab-badge.svg\" alt=\"Open In Colab\"/></a>"
      ]
    },
    {
      "cell_type": "markdown",
      "source": [
        "**Cargar la librería**\n"
      ],
      "metadata": {
        "id": "S13rctPlvmA-"
      }
    },
    {
      "cell_type": "code",
      "execution_count": 1,
      "metadata": {
        "id": "acBxGPexus4X"
      },
      "outputs": [],
      "source": [
        "#Primero se carga la librería numpy\n",
        "import numpy as np"
      ]
    },
    {
      "cell_type": "markdown",
      "source": [
        "##Creación de arrays\n",
        "\n",
        "Vamos a crear arrays de distintas dimensiones. Para esto podemos usar números, listas o tuplas."
      ],
      "metadata": {
        "id": "01Etc0iov3Ev"
      }
    },
    {
      "cell_type": "code",
      "source": [
        "#array de dimensión 0\n",
        "a=np.array(13)\n",
        "#array de dimensión 1\n",
        "b=np.array([1,2,3,4])\n",
        "#array de dimensión 2\n",
        "c=np.array([[1,2,3,4],[5,6,7,8]])\n",
        "#array de dimensión 3\n",
        "d=np.array([[[1,2,3,4],[5,6,7,8]],[[9,10,11,12],[13,14,15,16]]]) \n",
        "\n",
        "print(\"a =\",a,\"\\n\")\n",
        "print(\"b =\",b,\"\\n\")\n",
        "print(\"c =\",c,\"\\n\")\n",
        "print(\"d =\",d,\"\\n\")\n"
      ],
      "metadata": {
        "colab": {
          "base_uri": "https://localhost:8080/"
        },
        "id": "2kXlGCxfv9j6",
        "outputId": "3a40d1b7-fe36-4ebc-a9bb-1ccce4cb8237"
      },
      "execution_count": 15,
      "outputs": [
        {
          "output_type": "stream",
          "name": "stdout",
          "text": [
            "a = 13 \n",
            "\n",
            "b = [1 2 3 4] \n",
            "\n",
            "c = [[1 2 3 4]\n",
            " [5 6 7 8]] \n",
            "\n",
            "d = [[[ 1  2  3  4]\n",
            "  [ 5  6  7  8]]\n",
            "\n",
            " [[ 9 10 11 12]\n",
            "  [13 14 15 16]]] \n",
            "\n"
          ]
        }
      ]
    },
    {
      "cell_type": "markdown",
      "source": [
        "**Análisis de las dimensiones**\n",
        "Se van a observar las dimensiones de cada uno de los arrays\n"
      ],
      "metadata": {
        "id": "jkhVaAyuxMes"
      }
    },
    {
      "cell_type": "code",
      "source": [
        "#Dimensión array a (0)\n",
        "print(a.ndim)\n",
        "#Dimensión array b (1)\n",
        "print(b.ndim)\n",
        "#Dimensión array c(2)\n",
        "print(c.ndim)\n",
        "#Dimesión array d(3)\n",
        "print(d.ndim)"
      ],
      "metadata": {
        "colab": {
          "base_uri": "https://localhost:8080/"
        },
        "id": "FhkvitohxT1U",
        "outputId": "de7c00c0-9a15-49fb-e108-54fe563d1933"
      },
      "execution_count": 19,
      "outputs": [
        {
          "output_type": "stream",
          "name": "stdout",
          "text": [
            "0\n",
            "1\n",
            "2\n",
            "3\n"
          ]
        }
      ]
    },
    {
      "cell_type": "markdown",
      "source": [
        "**Indexación básica**\n",
        "\n",
        "El proceso de indexación en numpy es similar al de las listas en python. Cada número implica buscar la posición en cada dimensión del array"
      ],
      "metadata": {
        "id": "5KAkD-Z5x8GC"
      }
    },
    {
      "cell_type": "code",
      "source": [
        "#Indexación o filtrado de los elementos del array (a)\n",
        "print('a=',a)\n",
        "#imprime el tercer elemento del array (0,1,2) en este caso eb b\n",
        "print(\"b[2] = \",b[2])\n",
        "#Tenemos otro ejemplo sobre el mismo array\n",
        "print(\"b[3]=\",b[3])\n",
        "#Se imprime el segundo elemento del array c(En este caso una fila de una matriz)\n",
        "print(\"c[1] =\",c[1])\n",
        "#Se imprime el segundo elemento del array d (En este caso una matriz)\n",
        "print(\"d[1] =\",d[1])"
      ],
      "metadata": {
        "colab": {
          "base_uri": "https://localhost:8080/"
        },
        "id": "Yk53vL0Ix00F",
        "outputId": "b1c3ef98-8da4-47b1-f272-51470e6f93a4"
      },
      "execution_count": 26,
      "outputs": [
        {
          "output_type": "stream",
          "name": "stdout",
          "text": [
            "a= 13\n",
            "b[2] =  3\n",
            "b[3]= 4\n",
            "c[1] = [5 6 7 8]\n",
            "d[1] = [[ 9 10 11 12]\n",
            " [13 14 15 16]]\n"
          ]
        }
      ]
    },
    {
      "cell_type": "code",
      "source": [
        "#Imprime el elemento del array a\n",
        "print(\"a =\",a)\n",
        "#Imprime el tercer elemento del array b\n",
        "print(\"b[2] =\",b[2])\n",
        "#imprime el elemento que está en el segundo componente de c y en el tercer componente de la fila 2 \n",
        "print(\"c[1,2] =\",c[1,2])\n",
        "#Imprime la segunda submatriz, primera fila y tercer componente\n",
        "print(\"d[1,0,2] =\",d[1,0,2])\n"
      ],
      "metadata": {
        "colab": {
          "base_uri": "https://localhost:8080/"
        },
        "id": "34TpRhKNzALO",
        "outputId": "5ef76c85-360c-427f-c872-98c5638dfbd5"
      },
      "execution_count": 31,
      "outputs": [
        {
          "output_type": "stream",
          "name": "stdout",
          "text": [
            "a = 13\n",
            "b[2] = 3\n",
            "c[1,2] = 7\n",
            "d[1,0,2] = 11\n"
          ]
        }
      ]
    },
    {
      "cell_type": "markdown",
      "source": [
        "**Segmentar arrays**\n",
        "\n",
        "Similarmente podemos segmentar arrays como en el las listas de python,"
      ],
      "metadata": {
        "id": "oYBM_l2J0v8T"
      }
    },
    {
      "cell_type": "code",
      "source": [
        "#Imprime los elementos de la posición 2 a la 4\n",
        "#b = [1 2 3 4] \n",
        "print(b[1:4]) \n",
        "#Imprime los elemento 6 y 7 de la segunda fila\n",
        "print(c[1,1:3]) #c = [[1 2 3 4][5 6 7 8]] \n",
        "\n"
      ],
      "metadata": {
        "colab": {
          "base_uri": "https://localhost:8080/"
        },
        "id": "iDuHCxL-zYJt",
        "outputId": "03613487-3e6f-4200-e554-04379d9657d3"
      },
      "execution_count": 36,
      "outputs": [
        {
          "output_type": "stream",
          "name": "stdout",
          "text": [
            "[2 3 4]\n",
            "[6 7]\n"
          ]
        }
      ]
    },
    {
      "cell_type": "markdown",
      "source": [
        "**Diferentes tipos de datos en los arrays**\n",
        "\n",
        "Los arrays no están limitados a números enteros, pueden también tener cadenas, booleanos, o de punto flotante."
      ],
      "metadata": {
        "id": "HWxhyVt92C0i"
      }
    },
    {
      "cell_type": "code",
      "source": [
        "#Un array de caracteres con nombre de frutas \n",
        "frutas = np.array(['Manzana', 'Naranja', 'Uva']) \n",
        "#Muestra el array\n",
        "print(frutas)\n",
        "#Muestra el tipo de array\n",
        "print(type('frutas'))\n",
        "#cadenas\n",
        "print(frutas.dtype)"
      ],
      "metadata": {
        "colab": {
          "base_uri": "https://localhost:8080/"
        },
        "id": "4CU4GD0V2O1C",
        "outputId": "ce580440-a536-4411-dfcd-fed3dbd92be5"
      },
      "execution_count": 43,
      "outputs": [
        {
          "output_type": "stream",
          "name": "stdout",
          "text": [
            "['Manzana' 'Naranja' 'Uva']\n",
            "<class 'str'>\n",
            "<U7\n"
          ]
        }
      ]
    },
    {
      "cell_type": "markdown",
      "source": [
        "Podemos manipular el tipo de los datos del array dentro de la función de creación del array np.array, siempre y cuando el cambio sea posible. Por ejemplo podemos pasar enteros a cadenas (integers a strings) pero no viceversa."
      ],
      "metadata": {
        "id": "S-G3Znxg2x2L"
      }
    },
    {
      "cell_type": "code",
      "source": [
        "#Transformamos los números a caracteres \n",
        "number_to_string=np.array([6,1,2,4,623,8], dtype='S') #b denota un string\n",
        "print(number_to_string.dtype)\n",
        "\n",
        "print(number_to_string)\n",
        "\n",
        "#Se puede verificar el tipo\n",
        "print(type('number_to_string'))\n",
        "#Tipo string"
      ],
      "metadata": {
        "colab": {
          "base_uri": "https://localhost:8080/"
        },
        "id": "gdn2IfOA21F6",
        "outputId": "3c764765-976c-42ae-cef4-d102b5ccbf1b"
      },
      "execution_count": 48,
      "outputs": [
        {
          "output_type": "stream",
          "name": "stdout",
          "text": [
            "|S3\n",
            "[b'6' b'1' b'2' b'4' b'623' b'8']\n",
            "<class 'str'>\n"
          ]
        }
      ]
    },
    {
      "cell_type": "code",
      "source": [
        "try:\n",
        "    error_array = np.array(['a', '2', '3'], dtype='i')\n",
        "except:\n",
        "    print(\"hay un error en su lógica\")"
      ],
      "metadata": {
        "colab": {
          "base_uri": "https://localhost:8080/"
        },
        "id": "Iq56lnF03WBg",
        "outputId": "4a24e8ce-92a9-44fd-de0c-6fe4d05b85a7"
      },
      "execution_count": 49,
      "outputs": [
        {
          "output_type": "stream",
          "name": "stdout",
          "text": [
            "hay un error en su lógica\n"
          ]
        }
      ]
    },
    {
      "cell_type": "markdown",
      "source": [
        "Podemos también cambiar el tipo en arrays ya existentes"
      ],
      "metadata": {
        "id": "BYum8kI93b_O"
      }
    },
    {
      "cell_type": "code",
      "source": [
        "floating_array = np.array([1.1, 2.1, 3.1]) #punto flotante (Números reales)\n",
        "#transformarlo a un array entero\n",
        "int_array = floating_array.astype('i')\n",
        "print(int_array)"
      ],
      "metadata": {
        "colab": {
          "base_uri": "https://localhost:8080/"
        },
        "id": "mMj0XghA3ZJW",
        "outputId": "08a6ab66-a9dd-455c-e8a7-e69a4b29e361"
      },
      "execution_count": 51,
      "outputs": [
        {
          "output_type": "stream",
          "name": "stdout",
          "text": [
            "[1 2 3]\n"
          ]
        }
      ]
    },
    {
      "cell_type": "markdown",
      "source": [
        "**Forma de los arrays**\n",
        "\n",
        "La forma es distinta a la dimensión. Esta se define como el número de elementos de la dimensión."
      ],
      "metadata": {
        "id": "bN5WZ3qL3rpd"
      }
    },
    {
      "cell_type": "code",
      "source": [
        "\n",
        "print(a.shape) # a = 13 \n",
        "#4 elementos en la dimensión 1\n",
        "print(b.shape) # b = [1 2 3 4] \n",
        "#2 elementos en la  dimensión 1 y 4 elementos en la dimensión 2\n",
        "print(c.shape) # c = [[1 2 3 4][5 6 7 8]] \n",
        "#2 elementos en la dimensión 1, 2 elementos en la dimensión 2 y 4 elementos en la dimensión 3\n",
        "print(d.shape) # d = [[[ 1  2  3  4][ 5  6  7  8]] [[ 9 10 11 12][13 14 15 16]]] "
      ],
      "metadata": {
        "colab": {
          "base_uri": "https://localhost:8080/"
        },
        "id": "4hrwYB3a3uNF",
        "outputId": "ef1473e8-9269-41d3-a24d-34dbefbe2861"
      },
      "execution_count": 52,
      "outputs": [
        {
          "output_type": "stream",
          "name": "stdout",
          "text": [
            "()\n",
            "(4,)\n",
            "(2, 4)\n",
            "(2, 2, 4)\n"
          ]
        }
      ]
    },
    {
      "cell_type": "markdown",
      "source": [
        "**Reformar arrays**\n",
        "\n",
        "Podemos cambiar la forma de los arrays. Esto significa aumentar el número de dimensiones o cambiar cuantos elementos hay por dimensión"
      ],
      "metadata": {
        "id": "fjoWsFcL36cd"
      }
    },
    {
      "cell_type": "code",
      "source": [
        "print(\"c =\",c,\"\\n\")\n",
        "c_1D=c.reshape(1,8)\n",
        "print(\"c_1D =\",c_1D,\"\\n\")\n",
        "c_4D=c.reshape(4,2)\n",
        "print(\"c_4D =\",c_4D,\"\\n\")"
      ],
      "metadata": {
        "colab": {
          "base_uri": "https://localhost:8080/"
        },
        "id": "Wt1SdYWg3_Z1",
        "outputId": "7e01a09b-37a2-445c-9762-da3db525acda"
      },
      "execution_count": 53,
      "outputs": [
        {
          "output_type": "stream",
          "name": "stdout",
          "text": [
            "c = [[1 2 3 4]\n",
            " [5 6 7 8]] \n",
            "\n",
            "c_1D = [[1 2 3 4 5 6 7 8]] \n",
            "\n",
            "c_4D = [[1 2]\n",
            " [3 4]\n",
            " [5 6]\n",
            " [7 8]] \n",
            "\n"
          ]
        }
      ]
    },
    {
      "cell_type": "markdown",
      "source": [
        "¿Podemos hacer cualquier cambio en la forma? Si, mientras las que se quieren conseguir coincidan con la cantidad de elementos."
      ],
      "metadata": {
        "id": "22FeRz2K41l7"
      }
    },
    {
      "cell_type": "code",
      "source": [
        "print(d)"
      ],
      "metadata": {
        "colab": {
          "base_uri": "https://localhost:8080/"
        },
        "id": "NjYIrVR543bm",
        "outputId": "05f1c1e9-94bf-4ce2-b459-b690345ea1b4"
      },
      "execution_count": 54,
      "outputs": [
        {
          "output_type": "stream",
          "name": "stdout",
          "text": [
            "[[[ 1  2  3  4]\n",
            "  [ 5  6  7  8]]\n",
            "\n",
            " [[ 9 10 11 12]\n",
            "  [13 14 15 16]]]\n"
          ]
        }
      ]
    },
    {
      "cell_type": "markdown",
      "source": [
        "d es un array con 16 elementos, así que podemos hacer reshape con tamaños por ejemplo 1x16, 4x4, 8x2, 2x4x2 Por ejemplo, no podemos reformar un arrey a 3x5."
      ],
      "metadata": {
        "id": "uuN7ZmNf45yC"
      }
    },
    {
      "cell_type": "code",
      "source": [
        "try:\n",
        "    d.reshape(3,5)\n",
        "except:\n",
        "    print('Hay un error en sus operaciones')"
      ],
      "metadata": {
        "colab": {
          "base_uri": "https://localhost:8080/"
        },
        "id": "Onfjcb9V48cV",
        "outputId": "c09be57c-d9ae-4de3-991e-a6315a36d534"
      },
      "execution_count": 55,
      "outputs": [
        {
          "output_type": "stream",
          "name": "stdout",
          "text": [
            "Hay un error en sus operaciones\n"
          ]
        }
      ]
    },
    {
      "cell_type": "code",
      "source": [
        "d.reshape(2,2,2,2)"
      ],
      "metadata": {
        "colab": {
          "base_uri": "https://localhost:8080/"
        },
        "id": "MJrx9_v24_-K",
        "outputId": "9845e325-b4db-42ae-bfc3-ea6dfc6cf955"
      },
      "execution_count": 56,
      "outputs": [
        {
          "output_type": "execute_result",
          "data": {
            "text/plain": [
              "array([[[[ 1,  2],\n",
              "         [ 3,  4]],\n",
              "\n",
              "        [[ 5,  6],\n",
              "         [ 7,  8]]],\n",
              "\n",
              "\n",
              "       [[[ 9, 10],\n",
              "         [11, 12]],\n",
              "\n",
              "        [[13, 14],\n",
              "         [15, 16]]]])"
            ]
          },
          "metadata": {},
          "execution_count": 56
        }
      ]
    },
    {
      "cell_type": "markdown",
      "source": [
        "**Dimensión desconocida**\n",
        "\n",
        "Podemos definir el cambio de forma con una dimensión la cual no sabemos el tamaño. Numpy se encargará de definir el tamaño que mejor se ajuste."
      ],
      "metadata": {
        "id": "3STcFWmZ5K_4"
      }
    },
    {
      "cell_type": "code",
      "source": [
        "#Arreglo de números arbitrario  en python\n",
        "arr = np.array([1, 2, 3, 4, 5, 6, 7, 8, 9])\n",
        "\n",
        "arr.reshape(3,-1)"
      ],
      "metadata": {
        "colab": {
          "base_uri": "https://localhost:8080/"
        },
        "id": "_gpQ0_hF5Oba",
        "outputId": "0d85e1de-9f63-4990-cb43-9ca8c557645a"
      },
      "execution_count": 63,
      "outputs": [
        {
          "output_type": "execute_result",
          "data": {
            "text/plain": [
              "array([[1, 2, 3],\n",
              "       [4, 5, 6],\n",
              "       [7, 8, 9]])"
            ]
          },
          "metadata": {},
          "execution_count": 63
        }
      ]
    },
    {
      "cell_type": "markdown",
      "source": [
        "Podemos usar la dimensión desconocida para \"aplanar\" el array a una dimensión."
      ],
      "metadata": {
        "id": "GnAlU7nG5oKr"
      }
    },
    {
      "cell_type": "code",
      "source": [
        "d.reshape(-1)"
      ],
      "metadata": {
        "colab": {
          "base_uri": "https://localhost:8080/"
        },
        "id": "LlFP8Ikt5pEC",
        "outputId": "f59884c3-fff3-45ec-d0a4-7bad2907c19b"
      },
      "execution_count": 64,
      "outputs": [
        {
          "output_type": "execute_result",
          "data": {
            "text/plain": [
              "array([ 1,  2,  3,  4,  5,  6,  7,  8,  9, 10, 11, 12, 13, 14, 15, 16])"
            ]
          },
          "metadata": {},
          "execution_count": 64
        }
      ]
    },
    {
      "cell_type": "markdown",
      "source": [
        "**Transpuesta**\n",
        "\n",
        "Para transponer el array utilizamos .T"
      ],
      "metadata": {
        "id": "zfKWDfbO5sDc"
      }
    },
    {
      "cell_type": "code",
      "source": [
        "#Imprime el array con salto de linea\n",
        "print(\"c =\",c,\"\\n\")\n",
        "#Imprime la matriz transpuesta de c\n",
        "print(\"c.T =\",c.T)"
      ],
      "metadata": {
        "colab": {
          "base_uri": "https://localhost:8080/"
        },
        "id": "_suQFwJ05u4F",
        "outputId": "582d5e69-7508-4c1e-b8e7-cd10ede3f20b"
      },
      "execution_count": 66,
      "outputs": [
        {
          "output_type": "stream",
          "name": "stdout",
          "text": [
            "c = [[1 2 3 4]\n",
            " [5 6 7 8]] \n",
            "\n",
            "c.T = [[1 5]\n",
            " [2 6]\n",
            " [3 7]\n",
            " [4 8]]\n"
          ]
        }
      ]
    },
    {
      "cell_type": "markdown",
      "source": [
        "Iterar arrays\n",
        "Podemos usar los métodos tradicionales para iterar."
      ],
      "metadata": {
        "id": "zmctM9uW57nS"
      }
    },
    {
      "cell_type": "code",
      "source": [
        "#Estructura de control\n",
        "#Itera los elementos de x en d\n",
        "for x in d:\n",
        "    print(x)"
      ],
      "metadata": {
        "colab": {
          "base_uri": "https://localhost:8080/"
        },
        "id": "_gTiFSqF58fj",
        "outputId": "52419078-337c-4e05-e20f-a6d4235e9e58"
      },
      "execution_count": 72,
      "outputs": [
        {
          "output_type": "stream",
          "name": "stdout",
          "text": [
            "[[1 2 3 4]\n",
            " [5 6 7 8]]\n",
            "[[ 9 10 11 12]\n",
            " [13 14 15 16]]\n"
          ]
        }
      ]
    },
    {
      "cell_type": "markdown",
      "source": [
        "**Iteraciónes por cada dimensión**\n",
        "\n",
        "\n",
        "Si queremos iterar cada elemento, necesitamos un for por cada dimensión"
      ],
      "metadata": {
        "id": "7bMPZx5o6XvH"
      }
    },
    {
      "cell_type": "code",
      "source": [
        "#Itera primero sobre las dimesiones de d(3)\n",
        "#Itera sobre elemento  de d (filas)\n",
        "#Itera sobre cada elemento de la fila\n",
        "for x in d:\n",
        "    for y in x:\n",
        "        for z in y:\n",
        "            print(z)"
      ],
      "metadata": {
        "colab": {
          "base_uri": "https://localhost:8080/"
        },
        "id": "0lMZ3bMX7KAE",
        "outputId": "8fe0333a-8144-4540-e7e6-f8137ad4d7c7"
      },
      "execution_count": 73,
      "outputs": [
        {
          "output_type": "stream",
          "name": "stdout",
          "text": [
            "1\n",
            "2\n",
            "3\n",
            "4\n",
            "5\n",
            "6\n",
            "7\n",
            "8\n",
            "9\n",
            "10\n",
            "11\n",
            "12\n",
            "13\n",
            "14\n",
            "15\n",
            "16\n"
          ]
        }
      ]
    },
    {
      "cell_type": "markdown",
      "source": [
        "Esto por supuesto no es óptimo. Así que numpy tiene la función nditer() para estos casos."
      ],
      "metadata": {
        "id": "a3K7BPHQ7xg6"
      }
    },
    {
      "cell_type": "code",
      "source": [
        "for x in np.nditer(d):\n",
        "    print(x)"
      ],
      "metadata": {
        "colab": {
          "base_uri": "https://localhost:8080/"
        },
        "id": "SO4CV06u8W6D",
        "outputId": "c23322f7-e470-4838-c8e8-aeb62e770f33"
      },
      "execution_count": 74,
      "outputs": [
        {
          "output_type": "stream",
          "name": "stdout",
          "text": [
            "1\n",
            "2\n",
            "3\n",
            "4\n",
            "5\n",
            "6\n",
            "7\n",
            "8\n",
            "9\n",
            "10\n",
            "11\n",
            "12\n",
            "13\n",
            "14\n",
            "15\n",
            "16\n"
          ]
        }
      ]
    },
    {
      "cell_type": "markdown",
      "source": [
        "**Aplicar operaciones entre arrays**\n",
        "\n",
        "numpy tiene sus propias formas de aplicar operaciones:"
      ],
      "metadata": {
        "id": "SiSeyty-8Zmd"
      }
    },
    {
      "cell_type": "markdown",
      "source": [
        "Suma\n",
        "numpy tiene dos funciones, np.add() y np.sum(). El primero se aplica entre argumentos, el segundo se aplica en n elementos para que se haga la suma, es necesario que ambos arrays tengan la misma forma"
      ],
      "metadata": {
        "id": "Txyisl728dLl"
      }
    },
    {
      "cell_type": "code",
      "source": [
        "#Se tienen los array\n",
        "arr1=np.array([[1,2,3],\n",
        "               [4,5,6]])\n",
        "arr2=np.array([[6,5,4],\n",
        "               [3,2,1]])\n",
        "#Se suman los elementos de cada array (Como una suma entre matrices)\n",
        "np.add(arr1,arr2)"
      ],
      "metadata": {
        "colab": {
          "base_uri": "https://localhost:8080/"
        },
        "id": "dKXnvZqi8hJT",
        "outputId": "7499df61-633a-49bd-f51d-a11fd6aaa8fa"
      },
      "execution_count": 77,
      "outputs": [
        {
          "output_type": "execute_result",
          "data": {
            "text/plain": [
              "array([[7, 7, 7],\n",
              "       [7, 7, 7]])"
            ]
          },
          "metadata": {},
          "execution_count": 77
        }
      ]
    },
    {
      "cell_type": "code",
      "source": [
        "#Se define este nuevo array\n",
        "arr3=np.array([[1,1,1],[1,1,1]])\n",
        "print(arr3)\n",
        "#Suma los elementos de cada array entre sí\n",
        "#En ete caso suma desde el 1 hasta el 2 en cada array, lo que nos da 42\n",
        "print(np.sum([arr1,arr2]))\n",
        "#Suma de los elementos de cada array entre sí ( En este caso se obtiene 48)\n",
        "print(np.sum([arr1,arr2,arr3]))"
      ],
      "metadata": {
        "colab": {
          "base_uri": "https://localhost:8080/"
        },
        "id": "-0XjogvY8y3k",
        "outputId": "024ee732-7311-4506-b882-c0001f756988"
      },
      "execution_count": 81,
      "outputs": [
        {
          "output_type": "stream",
          "name": "stdout",
          "text": [
            "[[1 1 1]\n",
            " [1 1 1]]\n",
            "42\n",
            "48\n"
          ]
        }
      ]
    },
    {
      "cell_type": "markdown",
      "source": [
        "**Multiplicación Matricial**\n",
        "\n",
        "Para la multiplicación de matrices usamos np.matmul() o np.dot(). hay que tener en cuenta la forma de las "
      ],
      "metadata": {
        "id": "7Jfklob38wOs"
      }
    },
    {
      "cell_type": "code",
      "source": [
        "#Multiplica la matriz arr1 con la transpuesta de arr2\n",
        "np.matmul(arr1, arr2.T)"
      ],
      "metadata": {
        "colab": {
          "base_uri": "https://localhost:8080/"
        },
        "id": "zi6SC0DG9cEK",
        "outputId": "ba61dcb8-f762-41f7-fa6d-b4bb6f628ced"
      },
      "execution_count": 83,
      "outputs": [
        {
          "output_type": "execute_result",
          "data": {
            "text/plain": [
              "array([[28, 10],\n",
              "       [73, 28]])"
            ]
          },
          "metadata": {},
          "execution_count": 83
        }
      ]
    },
    {
      "cell_type": "code",
      "source": [
        "#También se puede obtener de esta manera\n",
        "np.dot(arr1, arr2.T)"
      ],
      "metadata": {
        "colab": {
          "base_uri": "https://localhost:8080/"
        },
        "id": "MsIgrYFk9p09",
        "outputId": "0f15dcf2-2c98-4176-e4d5-d95e964a47ce"
      },
      "execution_count": 85,
      "outputs": [
        {
          "output_type": "execute_result",
          "data": {
            "text/plain": [
              "array([[28, 10],\n",
              "       [73, 28]])"
            ]
          },
          "metadata": {},
          "execution_count": 85
        }
      ]
    },
    {
      "cell_type": "markdown",
      "source": [
        "Se comportan distinto con matrices de dos dimensiones, para otros casos hacen cosas distintas"
      ],
      "metadata": {
        "id": "F8575Tg396Pf"
      }
    },
    {
      "cell_type": "code",
      "source": [
        "print(\"d =\\n\",d,\"\\n\") #2,2,4\n",
        "print(\"d.reshape =\\n\",d.reshape(2,4,2),\"\\n\") #2,4,2\n",
        "np.dot(d,d.reshape(2,4,2)) #2,2,2,2"
      ],
      "metadata": {
        "colab": {
          "base_uri": "https://localhost:8080/"
        },
        "id": "vvGefyeb97r7",
        "outputId": "6af08dfe-82ba-48f4-c6e8-65dfe02e35de"
      },
      "execution_count": 86,
      "outputs": [
        {
          "output_type": "stream",
          "name": "stdout",
          "text": [
            "d =\n",
            " [[[ 1  2  3  4]\n",
            "  [ 5  6  7  8]]\n",
            "\n",
            " [[ 9 10 11 12]\n",
            "  [13 14 15 16]]] \n",
            "\n",
            "d.reshape =\n",
            " [[[ 1  2]\n",
            "  [ 3  4]\n",
            "  [ 5  6]\n",
            "  [ 7  8]]\n",
            "\n",
            " [[ 9 10]\n",
            "  [11 12]\n",
            "  [13 14]\n",
            "  [15 16]]] \n",
            "\n"
          ]
        },
        {
          "output_type": "execute_result",
          "data": {
            "text/plain": [
              "array([[[[ 50,  60],\n",
              "         [130, 140]],\n",
              "\n",
              "        [[114, 140],\n",
              "         [322, 348]]],\n",
              "\n",
              "\n",
              "       [[[178, 220],\n",
              "         [514, 556]],\n",
              "\n",
              "        [[242, 300],\n",
              "         [706, 764]]]])"
            ]
          },
          "metadata": {},
          "execution_count": 86
        }
      ]
    },
    {
      "cell_type": "code",
      "source": [
        "print(np.dot(d[0],d.reshape(2,4,2)[0]),\"\\n\")\n",
        "print(np.dot(d[0],d.reshape(2,4,2)[1]),\"\\n\")\n",
        "print(np.dot(d[1],d.reshape(2,4,2)[0]),\"\\n\")\n",
        "print(np.dot(d[1],d.reshape(2,4,2)[1]),\"\\n\")\n"
      ],
      "metadata": {
        "colab": {
          "base_uri": "https://localhost:8080/"
        },
        "id": "L35A-_YW-JXV",
        "outputId": "a3b46518-f003-4c8a-c249-f478052761f6"
      },
      "execution_count": 92,
      "outputs": [
        {
          "output_type": "stream",
          "name": "stdout",
          "text": [
            "[[ 50  60]\n",
            " [114 140]] \n",
            "\n",
            "[[130 140]\n",
            " [322 348]] \n",
            "\n",
            "[[178 220]\n",
            " [242 300]] \n",
            "\n",
            "[[514 556]\n",
            " [706 764]] \n",
            "\n"
          ]
        }
      ]
    },
    {
      "cell_type": "markdown",
      "source": [
        "Con matmul no se pueden multiplicar escalares c.A (c escalar, A matriz), además Matmul hace las multiplicaciones matriz a matriz (matrices como elementos), de ahí la diferencia con dot, donde este toma los números dentro de las matrices como elementos."
      ],
      "metadata": {
        "id": "3PTmCdIg-_EF"
      }
    },
    {
      "cell_type": "code",
      "source": [
        "np.matmul(d,d.reshape(2,4,2))"
      ],
      "metadata": {
        "colab": {
          "base_uri": "https://localhost:8080/"
        },
        "id": "naAy08bg_AEJ",
        "outputId": "7afdec6b-3a09-426a-fec6-63d9537eac82"
      },
      "execution_count": 94,
      "outputs": [
        {
          "output_type": "execute_result",
          "data": {
            "text/plain": [
              "array([[[ 50,  60],\n",
              "        [114, 140]],\n",
              "\n",
              "       [[514, 556],\n",
              "        [706, 764]]])"
            ]
          },
          "metadata": {},
          "execution_count": 94
        }
      ]
    },
    {
      "cell_type": "code",
      "source": [
        ""
      ],
      "metadata": {
        "id": "eq5MmEYD9FeO"
      },
      "execution_count": 93,
      "outputs": []
    }
  ]
}