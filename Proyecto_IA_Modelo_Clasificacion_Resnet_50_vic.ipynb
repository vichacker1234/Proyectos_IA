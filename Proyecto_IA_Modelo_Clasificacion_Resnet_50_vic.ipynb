{
  "cells": [
    {
      "cell_type": "markdown",
      "metadata": {
        "id": "view-in-github",
        "colab_type": "text"
      },
      "source": [
        "<a href=\"https://colab.research.google.com/github/vichacker1234/Proyectos_IA/blob/main/Proyecto_IA_Modelo_Clasificacion_Resnet_50_vic.ipynb\" target=\"_parent\"><img src=\"https://colab.research.google.com/assets/colab-badge.svg\" alt=\"Open In Colab\"/></a>"
      ]
    },
    {
      "cell_type": "markdown",
      "metadata": {
        "id": "XG4spFGTqyob"
      },
      "source": [
        "#1.Importar librerías e instalar paquetes \n",
        "\n",
        "\n",
        "\n",
        "\n"
      ]
    },
    {
      "cell_type": "code",
      "execution_count": null,
      "metadata": {
        "id": "0yMuSEPPu0bw"
      },
      "outputs": [],
      "source": [
        "import pandas as pd #Manejo de dataframes\n",
        "import numpy as np #Manejo de arrays\n",
        "import seaborn as sns # Para realización de gráficos\n",
        "import matplotlib.pyplot as plt # Para realización de gráficos\n",
        "import zipfile #Para archivos comprimidos\n",
        "import cv2 #Para imágenes\n",
        "from skimage import io #Para imágenes\n",
        "import tensorflow as tf  \n",
        "from tensorflow.python.keras import Sequential #Contrucción de capas\n",
        "from tensorflow.keras import layers, optimizers\n",
        "from tensorflow.keras.applications import DenseNet121\n",
        "from tensorflow.keras.applications.resnet50 import ResNet50 #Aprendizaje por transferencia\n",
        "from tensorflow.keras.layers import *\n",
        "from tensorflow.keras.models import Model, load_model #Creación y cargue del modelo\n",
        "from tensorflow.keras.initializers import glorot_uniform\n",
        "from tensorflow.keras.utils import plot_model\n",
        "from tensorflow.keras.callbacks import ReduceLROnPlateau, EarlyStopping, ModelCheckpoint, LearningRateScheduler\n",
        "from IPython.display import display\n",
        "from tensorflow.keras import backend as K\n",
        "from sklearn.preprocessing import StandardScaler, normalize\n",
        "import os\n",
        "from google.colab import files \n",
        "%matplotlib inline"
      ]
    },
    {
      "cell_type": "markdown",
      "source": [
        "#2.Revisar la versión de tensorflow"
      ],
      "metadata": {
        "id": "RtApBRy_4Sgl"
      }
    },
    {
      "cell_type": "code",
      "source": [
        "%tensorflow_version 2.x\n",
        "import tensorflow as tf\n",
        "\n",
        "print('Versión de Tensorflow: ' + tf.__version__)"
      ],
      "metadata": {
        "id": "gDPMGl7Y3ZT9"
      },
      "execution_count": null,
      "outputs": []
    },
    {
      "cell_type": "markdown",
      "metadata": {
        "id": "Jg67vLFDrAOp"
      },
      "source": [
        "#3.Montar la unidad de drive "
      ]
    },
    {
      "cell_type": "code",
      "execution_count": null,
      "metadata": {
        "id": "PUqp6yM4rIgR"
      },
      "outputs": [],
      "source": [
        "#Se monta la unidad de drive con el fin de extraer los datos que almacenamos en nuestro Drive\n",
        "from google.colab import drive\n",
        "drive.mount('/content/drive')"
      ]
    },
    {
      "cell_type": "markdown",
      "metadata": {
        "id": "I0V2WLAsx5wI"
      },
      "source": [
        "#4.Se cargan y exploran los datos"
      ]
    },
    {
      "cell_type": "code",
      "execution_count": null,
      "metadata": {
        "id": "kcjufCZhxSxK"
      },
      "outputs": [],
      "source": [
        "# Se define un dataframe que tiene el etiquetado de las imágenes en defectuosas y no defectuosas\n",
        "all_images_df = pd.read_csv('/content/drive/MyDrive/IA/Proyecto_Inteligencia_Artificial_manu/Proyecto_Inteligencia_Artificial_Original/Proyecto_Introducción_Inteligencia_Artificial_Resnet_50/defect_and_no_defect.csv')"
      ]
    },
    {
      "cell_type": "markdown",
      "metadata": {
        "id": "9u-r0emS1bNn"
      },
      "source": [
        "##4.1.Análisis exploratorio sobre los datos\n",
        "\n",
        "Los datos para este trabajo fueron descargados desde https://www.kaggle.com/competitions/severstal-steel-defect-detection/rules"
      ]
    },
    {
      "cell_type": "code",
      "execution_count": null,
      "metadata": {
        "id": "QzWMOiDk4kll"
      },
      "outputs": [],
      "source": [
        "#Se imprimen las dimensiones del dataframe de las imágenes defectuosas y no defectuosas\n",
        "all_images_df.shape"
      ]
    },
    {
      "cell_type": "code",
      "source": [
        "#Se revisa el dataframe, donde 1 es defectuosa y cero es no defectuosa en la columna de \"label\"\n",
        "all_images_df"
      ],
      "metadata": {
        "id": "nrNVHp-BFCnM"
      },
      "execution_count": null,
      "outputs": []
    },
    {
      "cell_type": "code",
      "source": [
        "#Dataframe con las imagenes defectuosas \n",
        "imagenes_defectuosas=all_images_df[\"label\"]==1\n",
        "imagenes_defectuosas=all_images_df[imagenes_defectuosas]\n",
        "imagenes_defectuosas"
      ],
      "metadata": {
        "id": "nisvf1khIwgs"
      },
      "execution_count": null,
      "outputs": []
    },
    {
      "cell_type": "code",
      "source": [
        "#Dataframe con las imagenes no defectuosas \n",
        "imagenes_no_defectuosas=all_images_df[\"label\"]==0\n",
        "imagenes_no_defectuosas=all_images_df[imagenes_no_defectuosas]\n",
        "imagenes_no_defectuosas=imagenes_no_defectuosas.reset_index()\n",
        "imagenes_no_defectuosas=imagenes_no_defectuosas[['ImageID','label']]\n",
        "imagenes_no_defectuosas"
      ],
      "metadata": {
        "id": "Ks8MC0ExHZha"
      },
      "execution_count": null,
      "outputs": []
    },
    {
      "cell_type": "code",
      "execution_count": null,
      "metadata": {
        "id": "I7-BWbRj4mrC"
      },
      "outputs": [],
      "source": [
        "# Se cuentan las imágenes con y sin defectos. \n",
        "#Hay 7095 imágenes defectuosas y 5902 imágenes no defectuosas\n",
        "all_images_df.label.value_counts()"
      ]
    },
    {
      "cell_type": "code",
      "execution_count": null,
      "metadata": {
        "id": "AEH6eevw4qTO"
      },
      "outputs": [],
      "source": [
        "#Se hace un gráfico de barras en el que se muestra el número de imágenes con base en si es defectuosa o no \n",
        "plt.figure(figsize=(10,10))\n",
        "sns.barplot(x = all_images_df.label.value_counts().index, y = all_images_df.label.value_counts() )\n",
        "plt.ylabel('Número de imágenes')\n",
        "plt.xlabel('0 - No-defectuosa             1- Defectuosa')\n",
        "plt.title('Imágenes defectuosas y no defectuosas')\n",
        "plt.show()"
      ]
    },
    {
      "cell_type": "code",
      "source": [
        ""
      ],
      "metadata": {
        "id": "VPa8hlBjC7KM"
      },
      "execution_count": null,
      "outputs": []
    },
    {
      "cell_type": "markdown",
      "source": [
        "##4.2. Visualización de imágenes defectuosas y no defectuosas"
      ],
      "metadata": {
        "id": "8HyXKFvaGnnG"
      }
    },
    {
      "cell_type": "code",
      "source": [
        "# Visualizar imágenes con defectos junto con sus etiquetas correspondientes\n",
        "# Las imágenes son de 256 x 1600\n",
        "from google.colab.patches import cv2_imshow\n",
        "train_dir = '/content/drive/MyDrive/IA/Proyecto_Inteligencia_Artificial_manu/Proyecto_Inteligencia_Artificial_Original/Proyecto_Introducción_Inteligencia_Artificial_Resnet_50/train_images_vic/train_images'\n",
        "\n",
        "\n",
        "for i in range(5):\n",
        "  # Especificar el path de las imágenes a partir de su ID de imagen\n",
        "  img = io.imread(os.path.join(train_dir, imagenes_no_defectuosas.ImageID[i]))\n",
        "  plt.figure()\n",
        "  plt.title(imagenes_no_defectuosas.label[i])\n",
        "  plt.imshow(img)"
      ],
      "metadata": {
        "id": "WRvZ1mtaHmkI"
      },
      "execution_count": null,
      "outputs": []
    },
    {
      "cell_type": "code",
      "source": [
        "# Visualizar imágenes sin defectos junto con sus etiquetas correspondientes\n",
        "# Las imágenes son de 256 x 1600\n",
        "from google.colab.patches import cv2_imshow\n",
        "train_dir = '/content/drive/MyDrive/IA/Proyecto_Inteligencia_Artificial_manu/Proyecto_Inteligencia_Artificial_Original/Proyecto_Introducción_Inteligencia_Artificial_Resnet_50/train_images_vic/train_images'\n",
        "\n",
        "for i in range(5):\n",
        "  # Especificar el path de las imágenes a partir de su ID de imagen\n",
        "  img = io.imread(os.path.join(train_dir, imagenes_no_defectuosas.ImageID[i]))\n",
        "  plt.figure()\n",
        "  plt.title(imagenes_no_defectuosas.label[i])\n",
        "  plt.imshow(img)"
      ],
      "metadata": {
        "id": "oo3Ksa71GkS0"
      },
      "execution_count": null,
      "outputs": []
    },
    {
      "cell_type": "markdown",
      "metadata": {
        "id": "_0_cG6tXWnFu"
      },
      "source": [
        "#5.Construcción del modelo de clasificación"
      ]
    },
    {
      "cell_type": "markdown",
      "source": [
        "###5.1 División del conjunto de datos"
      ],
      "metadata": {
        "id": "wkv2FzcrRORa"
      }
    },
    {
      "cell_type": "code",
      "execution_count": null,
      "metadata": {
        "id": "NuGg_kscW-at"
      },
      "outputs": [],
      "source": [
        "# Dividir el dataset (defectuosas y no defectousas)  en entrenamiento y testing\n",
        "from sklearn.model_selection import train_test_split\n",
        "train, test = train_test_split(all_images_df, test_size=0.15)"
      ]
    },
    {
      "cell_type": "code",
      "execution_count": null,
      "metadata": {
        "id": "cZYKP-RwW_tJ"
      },
      "outputs": [],
      "source": [
        "train.shape"
      ]
    },
    {
      "cell_type": "code",
      "execution_count": null,
      "metadata": {
        "id": "uHGQE6iXXBRU"
      },
      "outputs": [],
      "source": [
        "test.shape"
      ]
    },
    {
      "cell_type": "code",
      "execution_count": null,
      "metadata": {
        "id": "1M-ctlK9XC0E"
      },
      "outputs": [],
      "source": [
        "train_dir = '/content/drive/MyDrive/IA/Proyecto_Inteligencia_Artificial_manu/Proyecto_Inteligencia_Artificial_Original/Proyecto_Introducción_Inteligencia_Artificial_Resnet_50/train_images_vic/train_images'"
      ]
    },
    {
      "cell_type": "markdown",
      "source": [
        "###5.2 Creación del generador de imágenes de training, validation y testing"
      ],
      "metadata": {
        "id": "z94pd3XyR9QG"
      }
    },
    {
      "cell_type": "code",
      "execution_count": null,
      "metadata": {
        "id": "AQxOVX4WXLwc"
      },
      "outputs": [],
      "source": [
        "# Se crea un generador de imágenes para el conjunto de datos de entrenamiento y validación\n",
        "# Se dividen los datos en entrenamiento, validación y testing.\n",
        "# Training = 9390, \n",
        "# validation = 1657 \n",
        "# testing = 1950 \n",
        "\n",
        "from keras_preprocessing.image import ImageDataGenerator\n",
        "\n",
        "# Se crea un generador  que escale los datos de 0 a 1 y se una división de validación de 0,15\n",
        "datagen = ImageDataGenerator(rescale=1./255., validation_split = 0.15)\n",
        "\n",
        "train_generator = datagen.flow_from_dataframe(\n",
        "dataframe = train,\n",
        "directory = train_dir,\n",
        "x_col = \"ImageID\",\n",
        "y_col = \"label\",\n",
        "subset = \"training\",\n",
        "batch_size = 16,\n",
        "shuffle = True,\n",
        "class_mode = \"other\",\n",
        "target_size = (256, 256))\n",
        "\n",
        "\n",
        "valid_generator = datagen.flow_from_dataframe(\n",
        "dataframe = train,\n",
        "directory = train_dir,\n",
        "x_col = \"ImageID\",\n",
        "y_col = \"label\",\n",
        "subset = \"validation\",\n",
        "batch_size = 16,\n",
        "shuffle = True,\n",
        "class_mode = \"other\",\n",
        "target_size = (256, 256))"
      ]
    },
    {
      "cell_type": "code",
      "execution_count": null,
      "metadata": {
        "id": "sP39rrA_XPIV"
      },
      "outputs": [],
      "source": [
        "# Crear un generador de datos para imágenes de test\n",
        "test_datagen = ImageDataGenerator(rescale=1./255.)\n",
        "\n",
        "test_generator = test_datagen.flow_from_dataframe(\n",
        "dataframe = test,\n",
        "directory = train_dir,\n",
        "x_col = \"ImageID\",\n",
        "y_col = None,\n",
        "batch_size = 16,\n",
        "shuffle = False,\n",
        "class_mode = None,\n",
        "target_size = (256, 256))\n"
      ]
    },
    {
      "cell_type": "markdown",
      "source": [
        "#6.Se instancia el modelo pre-entrenado ResNet50\n",
        "\n",
        "Este modelo en su primera capa recibe imágenes de 256 por 256"
      ],
      "metadata": {
        "id": "MoVPkKOoS0Om"
      }
    },
    {
      "cell_type": "code",
      "execution_count": null,
      "metadata": {
        "id": "MHzqybyVXw6I"
      },
      "outputs": [],
      "source": [
        "basemodel = ResNet50(weights = 'imagenet', include_top = False, input_tensor = Input(shape=(256,256,3)))"
      ]
    },
    {
      "cell_type": "code",
      "execution_count": null,
      "metadata": {
        "id": "yUet3zo4X3EM"
      },
      "outputs": [],
      "source": [
        "basemodel.summary()"
      ]
    },
    {
      "cell_type": "markdown",
      "source": [
        "#7.Se congelan los pesos del modelo"
      ],
      "metadata": {
        "id": "ekoXpqtGTbz2"
      }
    },
    {
      "cell_type": "code",
      "execution_count": null,
      "metadata": {
        "id": "arAm2zPYX7Ex"
      },
      "outputs": [],
      "source": [
        "# Congelar los pesos del modelo\n",
        "for layer in basemodel.layers:\n",
        "  layers.trainable = False"
      ]
    },
    {
      "cell_type": "markdown",
      "source": [
        "#8.Se construyen las capas top del modelo"
      ],
      "metadata": {
        "id": "xhSNtIMYTnCz"
      }
    },
    {
      "cell_type": "code",
      "execution_count": null,
      "metadata": {
        "id": "HnPxu4JvX9TV"
      },
      "outputs": [],
      "source": [
        "headmodel = basemodel.output\n",
        "headmodel = AveragePooling2D(pool_size = (4,4))(headmodel)\n",
        "headmodel = Flatten(name= 'flatten')(headmodel)\n",
        "headmodel = Dense(256, activation = \"relu\")(headmodel)\n",
        "headmodel = Dropout(0.3)(headmodel)\n",
        "headmodel = Dense(1, activation = 'sigmoid')(headmodel)\n",
        "\n",
        "model = Model(inputs = basemodel.input, outputs = headmodel)"
      ]
    },
    {
      "cell_type": "code",
      "execution_count": null,
      "metadata": {
        "id": "6KSBMokUX_nV"
      },
      "outputs": [],
      "source": [
        "#Se define el optimizador y la función de pérdida\n",
        "model.compile(loss = 'binary_crossentropy', optimizer='adam', metrics= [\"accuracy\"])"
      ]
    },
    {
      "cell_type": "markdown",
      "metadata": {
        "id": "LNBV_rrnAYdC"
      },
      "source": [
        "#9.Generación de checkpoints"
      ]
    },
    {
      "cell_type": "code",
      "execution_count": null,
      "metadata": {
        "id": "2rDQR_JiYDM2"
      },
      "outputs": [],
      "source": [
        "# Usar la parada temprana para parar el entrenamiento si la pérdida en validación no baja después de un cierto número de epochs \n",
        "earlystopping = EarlyStopping(monitor='val_loss', mode='min', verbose=1, patience=20)\n",
        "\n",
        "# Guardamos el modelo con menor error de validación\n",
        "checkpointer = ModelCheckpoint(filepath=\"resnet-weights.hdf5\", verbose=1, save_best_only=True)"
      ]
    },
    {
      "cell_type": "markdown",
      "metadata": {
        "id": "aZRGf9XkuEo-"
      },
      "source": [
        "#10.Verificar disponibilidad de una GPU"
      ]
    },
    {
      "cell_type": "code",
      "execution_count": null,
      "metadata": {
        "id": "ycm5pSsevaVN"
      },
      "outputs": [],
      "source": [
        "nombre_gpu = tf.test.gpu_device_name()\n",
        "if nombre_gpu != '/device:GPU:0':\n",
        "  raise SystemError('GPU no encontrada')\n",
        "  print('GPU encontrada: {}'.format(nombre_gpu))"
      ]
    },
    {
      "cell_type": "markdown",
      "metadata": {
        "id": "LWrH4WRm-zBn"
      },
      "source": [
        "#11.Entrenamiento con GPU"
      ]
    },
    {
      "cell_type": "code",
      "execution_count": null,
      "metadata": {
        "id": "4WbPOEt9C9N8"
      },
      "outputs": [],
      "source": [
        "import timeit\n",
        "\n",
        "def entrenamiento_gpu():\n",
        "  with tf.device('/device:GPU:0'):\n",
        "    model.fit(train_generator, steps_per_epoch= train_generator.n // 16, epochs = 40, validation_data= valid_generator, validation_steps= valid_generator.n // 16, callbacks=[checkpointer, earlystopping])\n",
        "  \n",
        "  return None\n",
        "\n",
        "gpu_time = timeit.timeit('entrenamiento_gpu()', number=1, setup='from __main__ import entrenamiento_gpu')\n"
      ]
    },
    {
      "cell_type": "markdown",
      "source": [
        "#12.Se guarda el modelo entrenado "
      ],
      "metadata": {
        "id": "lDnusnhRUV8n"
      }
    },
    {
      "cell_type": "code",
      "execution_count": null,
      "metadata": {
        "id": "ornUHsMMjdse"
      },
      "outputs": [],
      "source": [
        "# Guardamos la arquitectura del modelo entrenado\n",
        "\n",
        "model_json = model.to_json()\n",
        "with open(\"resnet-classifier-model.json\",\"w\") as json_file:\n",
        "  json_file.write(model_json)"
      ]
    },
    {
      "cell_type": "markdown",
      "metadata": {
        "id": "thL2VWuOjjLm"
      },
      "source": [
        "#13.Evaluación de la calidad del modelo"
      ]
    },
    {
      "cell_type": "code",
      "execution_count": null,
      "metadata": {
        "id": "55JG8_SojiBa"
      },
      "outputs": [],
      "source": [
        "with open('/content/drive/MyDrive/IA/Proyecto_Inteligencia_Artificial_manu/Proyecto_Inteligencia_Artificial_Original/Proyecto_Introducción_Inteligencia_Artificial_Resnet_50/resnet-classifier-model.json', 'r') as json_file:\n",
        "    json_savedModel= json_file.read()\n",
        "# Cargamos el modelo \n",
        "model = tf.keras.models.model_from_json(json_savedModel)\n",
        "model.load_weights('/content/drive/MyDrive/IA/Proyecto_Inteligencia_Artificial_manu/Proyecto_Inteligencia_Artificial_Original/Proyecto_Introducción_Inteligencia_Artificial_Resnet_50/resnet-weights.hdf5')\n",
        "model.compile(loss = 'binary_crossentropy', optimizer='adam', metrics= [\"accuracy\"])"
      ]
    },
    {
      "cell_type": "code",
      "execution_count": null,
      "metadata": {
        "id": "ScXhE4S4kSwW"
      },
      "outputs": [],
      "source": [
        "# Hacemos la predicción\n",
        "\n",
        "from keras_preprocessing.image import ImageDataGenerator\n",
        "\n",
        "test_predict = model.predict(test_generator, steps = test_generator.n // 16, verbose =1)"
      ]
    },
    {
      "cell_type": "code",
      "execution_count": null,
      "metadata": {
        "id": "D1By1WyKpqlV"
      },
      "outputs": [],
      "source": [
        "test_predict\n",
        "len(test_predict)"
      ]
    },
    {
      "cell_type": "code",
      "execution_count": null,
      "metadata": {
        "id": "uuTHqBIDpupN"
      },
      "outputs": [],
      "source": [
        "# Dado que usamos la función de activación sigmoidea al final, nuestro resultado contiene valores continuos de 0 a 1.\n",
        "# La red se usa  para clasificar si la imagen tiene defecto o no\n",
        "predict = []\n",
        "\n",
        "for i in test_predict:\n",
        "  if i < 0.5: \n",
        "    predict.append(0)\n",
        "  else:\n",
        "    predict.append(1)\n",
        "\n",
        "predict = np.asarray(predict)"
      ]
    },
    {
      "cell_type": "code",
      "execution_count": null,
      "metadata": {
        "id": "i0eLuVpCp2fk"
      },
      "outputs": [],
      "source": [
        "len(predict)"
      ]
    },
    {
      "cell_type": "code",
      "execution_count": null,
      "metadata": {
        "id": "_fv03P01p6DE"
      },
      "outputs": [],
      "source": [
        "# como usamos el generador de prueba, limitó las imágenes a 1936, debido al tamaño del lote\n",
        "\n",
        "original = np.asarray(test.label)[:1936]\n",
        "len(original)"
      ]
    },
    {
      "cell_type": "code",
      "execution_count": null,
      "metadata": {
        "id": "G2cpPgYnp89s"
      },
      "outputs": [],
      "source": [
        "# Buscamos la accuracy del modelo\n",
        "from sklearn.metrics import accuracy_score\n",
        "accuracy = accuracy_score(original, predict)\n",
        "accuracy"
      ]
    },
    {
      "cell_type": "code",
      "execution_count": null,
      "metadata": {
        "id": "u2gqXDgIqAWc"
      },
      "outputs": [],
      "source": [
        "# Representamos la matriz de confusión\n",
        "from sklearn.metrics import confusion_matrix\n",
        "\n",
        "cm = confusion_matrix(original, predict)\n",
        "plt.figure(figsize = (7,7))\n",
        "sns.heatmap(cm, annot=True)\n",
        "plt.show()"
      ]
    },
    {
      "cell_type": "code",
      "source": [
        "import matplotlib.pyplot as plt\n",
        "from sklearn.datasets import make_classification\n",
        "from sklearn.metrics import ConfusionMatrixDisplay\n",
        "from sklearn.model_selection import train_test_split\n",
        "from sklearn.svm import SVC\n",
        "ConfusionMatrixDisplay.from_predictions(original,predict)\n",
        "plt.ylabel(\"Clasificación verdadera\")\n",
        "plt.xlabel(\"Clasificación predicha\")\n",
        "plt.show()\n",
        "\n"
      ],
      "metadata": {
        "id": "iUrKVnK8IOmI"
      },
      "execution_count": null,
      "outputs": []
    },
    {
      "cell_type": "code",
      "execution_count": null,
      "metadata": {
        "id": "7IxMccAkqIN-"
      },
      "outputs": [],
      "source": [
        "# Imprimimos el reporte de clasificación (metricas con respecto a la clasificación)\n",
        "\n",
        "from sklearn.metrics import classification_report\n",
        "\n",
        "report = classification_report(original,predict, labels = [0,1])\n",
        "print(report)"
      ]
    }
  ],
  "metadata": {
    "colab": {
      "collapsed_sections": [],
      "name": "Proyecto_IA_Modelo_Clasificacion_Resnet_50_vic.ipynb",
      "provenance": [],
      "private_outputs": true,
      "include_colab_link": true
    },
    "kernelspec": {
      "display_name": "Python 3",
      "name": "python3"
    },
    "language_info": {
      "name": "python"
    },
    "gpuClass": "standard",
    "accelerator": "GPU"
  },
  "nbformat": 4,
  "nbformat_minor": 0
}