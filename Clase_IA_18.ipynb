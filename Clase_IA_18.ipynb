{
  "nbformat": 4,
  "nbformat_minor": 0,
  "metadata": {
    "colab": {
      "name": "Clase_IA_18.ipynb",
      "provenance": [],
      "collapsed_sections": [
        "3igP-oDYBmDU",
        "ILqJGvLzEC37",
        "KREc8MNXG2bm",
        "quhgUCirOGNu"
      ],
      "authorship_tag": "ABX9TyOM6tb9cbLqPrJahZFBA6dx",
      "include_colab_link": true
    },
    "kernelspec": {
      "name": "python3",
      "display_name": "Python 3"
    },
    "language_info": {
      "name": "python"
    }
  },
  "cells": [
    {
      "cell_type": "markdown",
      "metadata": {
        "id": "view-in-github",
        "colab_type": "text"
      },
      "source": [
        "<a href=\"https://colab.research.google.com/github/vichacker1234/Proyectos_IA/blob/main/Clase_IA_18.ipynb\" target=\"_parent\"><img src=\"https://colab.research.google.com/assets/colab-badge.svg\" alt=\"Open In Colab\"/></a>"
      ]
    },
    {
      "cell_type": "code",
      "execution_count": null,
      "metadata": {
        "id": "mhDicGZ1BlQ0"
      },
      "outputs": [],
      "source": [
        ""
      ]
    },
    {
      "cell_type": "markdown",
      "source": [
        ""
      ],
      "metadata": {
        "id": "bGSht3_JBmBl"
      }
    },
    {
      "cell_type": "markdown",
      "source": [
        "**KL-Divergence**\n",
        "\n",
        "Se define de la siguiente manera:\n",
        "\n",
        "$d(f,g)=E_{f}\\left[ ln(g(x))-ln(f(x))\\right]=\\int\\left[ln(g(x))-ln(f(x)) \\right]f(x) dx$\n",
        "\n",
        "$argminf(x,y)=(x,y)$\n",
        "\n",
        "#Gradiente de $f$\n",
        "$∇f(x,y)=(∂f/∂x,∂f/∂y)$"
      ],
      "metadata": {
        "id": "3igP-oDYBmDU"
      }
    },
    {
      "cell_type": "markdown",
      "source": [
        "#Rata de aprendizaje\n",
        "\n",
        "Problema de optimización, minimización. Hallar una distribución aproximante para la función de pérdida.\n",
        "\n",
        "$\\hat{y}_{i}=net(w,b,x_{i})$ \n",
        "\n",
        "* Distribución multinomial para problemas de clasificación\n",
        " Se busca optimizar la siguiente función:\n",
        "\n",
        " $loss(y_{i},net(w,b,x_{i}))$\n",
        "\n",
        " Aquí se construye net de tal manera que se minimiza loss"
      ],
      "metadata": {
        "id": "ILqJGvLzEC37"
      }
    },
    {
      "cell_type": "markdown",
      "source": [
        "#Backpropagation\n",
        "\n",
        "Técnica para calcular el gradiente en perceptrones.\n",
        "* Diferenciación automática\n",
        "\n",
        "#Gradiente descendiente estocástico\n",
        "Se escoge $y_{i}$ de forma aleatoria\n",
        "\n",
        "La solución converge en probabilidad. Es decir con probabilidad 1\n",
        "\n",
        "* Programar la rata de aprendizaje\n"
      ],
      "metadata": {
        "id": "KREc8MNXG2bm"
      }
    },
    {
      "cell_type": "markdown",
      "source": [
        "**Gradiente descendiente estocástico por mini-lotes**\n",
        "\n",
        "En vez de seleccionarun $y_{i}$ se seleccionan lotes manteniendo la convergencia del algoritmo.\n",
        "* Variantes para garantizar la convergencia\n",
        "* Elegir tamaños de lotes adecuados (Tamaño de 32 es el más usual)\n",
        "* Potencias de 2 es otra sugerencia\n",
        "* Con lotes pequeños se obtienen rápidas convergencias pero necesita más iteraciones ( Mayor costo computacional)\n",
        "\n",
        "* Es importante elegir los datos de manera aleatoria \n",
        "* lotes elegidos de manera aleatoria\n",
        "* máquinas que trabajan de manera paralela.\n",
        "* Con minilotes de datos el agoritmo no siempre converge\n",
        "\n"
      ],
      "metadata": {
        "id": "yhb9m3qjLcr4"
      }
    },
    {
      "cell_type": "markdown",
      "source": [
        "#Variantes del método\n",
        "* Método del momento\n",
        "* Método Adam ( Es el método más usado) \n",
        "* Adam es un optimizador \n",
        "* $\\alpha=0.001$ es lo más usual\n"
      ],
      "metadata": {
        "id": "quhgUCirOGNu"
      }
    },
    {
      "cell_type": "markdown",
      "source": [
        "**Problemas de clasificación**\n",
        "\n",
        "* Carcaterísticas o features\n",
        "* net(x)\n",
        "* Al final se tiene un conjunto de categorías o clases\n",
        "* Para cada entrada la salida es un vector de probabilidad\n",
        "*  se una una variable one-hot\n",
        "* Diferentes codificaciones para cada categoría\n",
        "* Distribución de referencia\n",
        "* "
      ],
      "metadata": {
        "id": "NNVSAMk4SceV"
      }
    },
    {
      "cell_type": "markdown",
      "source": [
        "#Entropía cruzada (Una función de pérdida)\n",
        "$-[x_{1}ln(p_{1})+x_{2}Ln(p_{2})+x_{3}Ln(p_{3})]$\n",
        "* Distribución aproximada"
      ],
      "metadata": {
        "id": "Hpz6UffwUULv"
      }
    },
    {
      "cell_type": "markdown",
      "source": [
        "* la entropía en estadística corresponde con una esperanza \n",
        "* Mide la predictibilidad de una distribución de  probabilidad ( O de la variable aleatoria)\n",
        "* Se busca minimizar la entropía \n",
        "*  Esta relacionada con la varianza\n",
        "* la distribución más entrópica es la uniforme discreta \n",
        "* hallar la entropía de la sit Uniforme\n",
        "\n"
      ],
      "metadata": {
        "id": "1-uMkpwWVmlv"
      }
    }
  ]
}