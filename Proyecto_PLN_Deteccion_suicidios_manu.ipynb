{
  "cells": [
    {
      "cell_type": "markdown",
      "metadata": {
        "id": "view-in-github",
        "colab_type": "text"
      },
      "source": [
        "<a href=\"https://colab.research.google.com/github/vichacker1234/Proyectos_IA/blob/main/Proyecto_PLN_Deteccion_suicidios_manu.ipynb\" target=\"_parent\"><img src=\"https://colab.research.google.com/assets/colab-badge.svg\" alt=\"Open In Colab\"/></a>"
      ]
    },
    {
      "cell_type": "markdown",
      "metadata": {
        "id": "dJRqHGv_GV1v"
      },
      "source": [
        "# Modelo de clasificación\n"
      ]
    },
    {
      "cell_type": "code",
      "execution_count": 1,
      "metadata": {
        "colab": {
          "base_uri": "https://localhost:8080/"
        },
        "id": "p9jEN-yvGfEI",
        "outputId": "78a1ded4-15b2-48ab-e8c2-4d1a46d331bd"
      },
      "outputs": [
        {
          "output_type": "stream",
          "name": "stdout",
          "text": [
            "2.8.2\n"
          ]
        }
      ],
      "source": [
        "#Importar la librería tensorflow\n",
        "import tensorflow as tf\n",
        "print(tf.version.VERSION)"
      ]
    },
    {
      "cell_type": "code",
      "execution_count": 2,
      "metadata": {
        "colab": {
          "base_uri": "https://localhost:8080/"
        },
        "id": "Vk4JMQ4-Gol3",
        "outputId": "c67e325c-fb35-4e93-9069-aacb5ec9596a"
      },
      "outputs": [
        {
          "output_type": "stream",
          "name": "stdout",
          "text": [
            "fatal: destination path 'models' already exists and is not an empty directory.\n"
          ]
        }
      ],
      "source": [
        "!git clone --depth 1 -b v2.3.0 https://github.com/tensorflow/models.git"
      ]
    },
    {
      "cell_type": "code",
      "execution_count": 3,
      "metadata": {
        "id": "OWpRmtLNG7dG"
      },
      "outputs": [],
      "source": [
        "# Instalar requerimientos para utilizar el repositorio de tensorflow models\n",
        "!pip install -Uqr models/official/requirements.txt\n",
        "# Reiniciar el entorno de ejecución y volver a correr hasta acá"
      ]
    },
    {
      "cell_type": "code",
      "execution_count": 4,
      "metadata": {
        "colab": {
          "base_uri": "https://localhost:8080/"
        },
        "id": "2n2IZ71JMoLu",
        "outputId": "30faf80c-3de5-498e-c83b-b7fbebc338ce"
      },
      "outputs": [
        {
          "output_type": "stream",
          "name": "stdout",
          "text": [
            "Looking in indexes: https://pypi.org/simple, https://us-python.pkg.dev/colab-wheels/public/simple/\n",
            "Collecting transformers\n",
            "  Downloading transformers-4.20.1-py3-none-any.whl (4.4 MB)\n",
            "\u001b[K     |████████████████████████████████| 4.4 MB 7.4 MB/s \n",
            "\u001b[?25hCollecting tokenizers!=0.11.3,<0.13,>=0.11.1\n",
            "  Downloading tokenizers-0.12.1-cp37-cp37m-manylinux_2_12_x86_64.manylinux2010_x86_64.whl (6.6 MB)\n",
            "\u001b[K     |████████████████████████████████| 6.6 MB 40.7 MB/s \n",
            "\u001b[?25hRequirement already satisfied: pyyaml>=5.1 in /usr/local/lib/python3.7/dist-packages (from transformers) (6.0)\n",
            "Collecting huggingface-hub<1.0,>=0.1.0\n",
            "  Downloading huggingface_hub-0.8.1-py3-none-any.whl (101 kB)\n",
            "\u001b[K     |████████████████████████████████| 101 kB 11.5 MB/s \n",
            "\u001b[?25hRequirement already satisfied: numpy>=1.17 in /usr/local/lib/python3.7/dist-packages (from transformers) (1.21.6)\n",
            "Requirement already satisfied: packaging>=20.0 in /usr/local/lib/python3.7/dist-packages (from transformers) (21.3)\n",
            "Requirement already satisfied: filelock in /usr/local/lib/python3.7/dist-packages (from transformers) (3.7.1)\n",
            "Requirement already satisfied: regex!=2019.12.17 in /usr/local/lib/python3.7/dist-packages (from transformers) (2022.6.2)\n",
            "Requirement already satisfied: tqdm>=4.27 in /usr/local/lib/python3.7/dist-packages (from transformers) (4.64.0)\n",
            "Requirement already satisfied: requests in /usr/local/lib/python3.7/dist-packages (from transformers) (2.23.0)\n",
            "Requirement already satisfied: importlib-metadata in /usr/local/lib/python3.7/dist-packages (from transformers) (4.12.0)\n",
            "Requirement already satisfied: typing-extensions>=3.7.4.3 in /usr/local/lib/python3.7/dist-packages (from huggingface-hub<1.0,>=0.1.0->transformers) (4.1.1)\n",
            "Requirement already satisfied: pyparsing!=3.0.5,>=2.0.2 in /usr/local/lib/python3.7/dist-packages (from packaging>=20.0->transformers) (3.0.9)\n",
            "Requirement already satisfied: zipp>=0.5 in /usr/local/lib/python3.7/dist-packages (from importlib-metadata->transformers) (3.8.0)\n",
            "Requirement already satisfied: idna<3,>=2.5 in /usr/local/lib/python3.7/dist-packages (from requests->transformers) (2.10)\n",
            "Requirement already satisfied: chardet<4,>=3.0.2 in /usr/local/lib/python3.7/dist-packages (from requests->transformers) (3.0.4)\n",
            "Requirement already satisfied: urllib3!=1.25.0,!=1.25.1,<1.26,>=1.21.1 in /usr/local/lib/python3.7/dist-packages (from requests->transformers) (1.24.3)\n",
            "Requirement already satisfied: certifi>=2017.4.17 in /usr/local/lib/python3.7/dist-packages (from requests->transformers) (2022.6.15)\n",
            "Installing collected packages: tokenizers, huggingface-hub, transformers\n",
            "Successfully installed huggingface-hub-0.8.1 tokenizers-0.12.1 transformers-4.20.1\n"
          ]
        }
      ],
      "source": [
        "!pip install transformers "
      ]
    },
    {
      "cell_type": "code",
      "execution_count": 5,
      "metadata": {
        "id": "ZpE3Wj8dMiKa"
      },
      "outputs": [],
      "source": [
        "import numpy as np\n",
        "import tensorflow as tf\n",
        "import tensorflow_hub as hub\n",
        "import sys\n",
        "import transformers\n",
        "from transformers import BertModel, BertTokenizer\n",
        "sys.path.append('models')\n",
        "from official.nlp.data import classifier_data_lib\n",
        "from official.nlp.bert import tokenization\n",
        "from official.nlp import optimization\n",
        "import seaborn as sns # Para realización de gráficos\n",
        "import matplotlib.pyplot as plt # Para realización de gráficos\n",
        "import numpy as np\n",
        "from tensorflow.keras.callbacks import ReduceLROnPlateau, EarlyStopping, ModelCheckpoint, LearningRateScheduler\n",
        "from tensorflow.keras.models import Model, load_model #Creación y cargue del modelo\n",
        "from transformers import pipeline"
      ]
    },
    {
      "cell_type": "code",
      "execution_count": 6,
      "metadata": {
        "colab": {
          "base_uri": "https://localhost:8080/"
        },
        "id": "3y5Zse5hMwBU",
        "outputId": "b999d7c6-ae20-4595-9eb6-d64f2d679c04"
      },
      "outputs": [
        {
          "output_type": "stream",
          "name": "stdout",
          "text": [
            "Mounted at /content/gdrive\n"
          ]
        }
      ],
      "source": [
        "from google.colab import drive\n",
        "drive.mount('/content/gdrive')"
      ]
    },
    {
      "cell_type": "code",
      "execution_count": 7,
      "metadata": {
        "colab": {
          "base_uri": "https://localhost:8080/"
        },
        "id": "-r9k6NocNIqO",
        "outputId": "eeb7bdc4-180c-48d1-8684-8d10b3e81689"
      },
      "outputs": [
        {
          "output_type": "execute_result",
          "data": {
            "text/plain": [
              "(232074, 3)"
            ]
          },
          "metadata": {},
          "execution_count": 7
        }
      ],
      "source": [
        "import numpy as np\n",
        "import pandas as pd\n",
        "from sklearn.model_selection import train_test_split\n",
        "df = pd.read_csv('/content/gdrive/MyDrive/NLP/Proyecto_de_NLP_manu/Proyecto_NLP_Suicide_Detection_manu/Proyecto_NLP_Suicide_Detection/Suicide_Detection.csv',low_memory=False)\n",
        "df.shape"
      ]
    },
    {
      "cell_type": "code",
      "execution_count": 8,
      "metadata": {
        "colab": {
          "base_uri": "https://localhost:8080/",
          "height": 425
        },
        "id": "haNhR4fQNfc-",
        "outputId": "2a2ee7ae-1fbe-4463-99f8-65e97ec379ec"
      },
      "outputs": [
        {
          "output_type": "execute_result",
          "data": {
            "text/plain": [
              "        Unnamed: 0                                               text  \\\n",
              "232062      348092  paralyzing anxiety &amp; depression are pushin...   \n",
              "232063      348094  i have a cute ribbon tied around my neck and m...   \n",
              "232064      348096  How ba-a-ad can i be? I’m just doin’ what come...   \n",
              "232065      348097  I know no one here cares but anyways I was fig...   \n",
              "232066      348098  My mom tried to kill herself today. I feel los...   \n",
              "232067      348100  I’m a fucking scummy person and I can’t change...   \n",
              "232068      348101  I did something today I went sledding with my ...   \n",
              "232069      348103  If you don't like rock then your not going to ...   \n",
              "232070      348106  You how you can tell i have so many friends an...   \n",
              "232071      348107  pee probably tastes like salty tea😏💦‼️ can som...   \n",
              "232072      348108  The usual stuff you find hereI'm not posting t...   \n",
              "232073      348110  I still haven't beaten the first boss in Hollo...   \n",
              "\n",
              "              class  \n",
              "232062      suicide  \n",
              "232063  non-suicide  \n",
              "232064  non-suicide  \n",
              "232065  non-suicide  \n",
              "232066      suicide  \n",
              "232067      suicide  \n",
              "232068  non-suicide  \n",
              "232069  non-suicide  \n",
              "232070  non-suicide  \n",
              "232071  non-suicide  \n",
              "232072      suicide  \n",
              "232073  non-suicide  "
            ],
            "text/html": [
              "\n",
              "  <div id=\"df-dac0f204-5f72-4462-a59d-ae8da6e3b0ed\">\n",
              "    <div class=\"colab-df-container\">\n",
              "      <div>\n",
              "<style scoped>\n",
              "    .dataframe tbody tr th:only-of-type {\n",
              "        vertical-align: middle;\n",
              "    }\n",
              "\n",
              "    .dataframe tbody tr th {\n",
              "        vertical-align: top;\n",
              "    }\n",
              "\n",
              "    .dataframe thead th {\n",
              "        text-align: right;\n",
              "    }\n",
              "</style>\n",
              "<table border=\"1\" class=\"dataframe\">\n",
              "  <thead>\n",
              "    <tr style=\"text-align: right;\">\n",
              "      <th></th>\n",
              "      <th>Unnamed: 0</th>\n",
              "      <th>text</th>\n",
              "      <th>class</th>\n",
              "    </tr>\n",
              "  </thead>\n",
              "  <tbody>\n",
              "    <tr>\n",
              "      <th>232062</th>\n",
              "      <td>348092</td>\n",
              "      <td>paralyzing anxiety &amp;amp; depression are pushin...</td>\n",
              "      <td>suicide</td>\n",
              "    </tr>\n",
              "    <tr>\n",
              "      <th>232063</th>\n",
              "      <td>348094</td>\n",
              "      <td>i have a cute ribbon tied around my neck and m...</td>\n",
              "      <td>non-suicide</td>\n",
              "    </tr>\n",
              "    <tr>\n",
              "      <th>232064</th>\n",
              "      <td>348096</td>\n",
              "      <td>How ba-a-ad can i be? I’m just doin’ what come...</td>\n",
              "      <td>non-suicide</td>\n",
              "    </tr>\n",
              "    <tr>\n",
              "      <th>232065</th>\n",
              "      <td>348097</td>\n",
              "      <td>I know no one here cares but anyways I was fig...</td>\n",
              "      <td>non-suicide</td>\n",
              "    </tr>\n",
              "    <tr>\n",
              "      <th>232066</th>\n",
              "      <td>348098</td>\n",
              "      <td>My mom tried to kill herself today. I feel los...</td>\n",
              "      <td>suicide</td>\n",
              "    </tr>\n",
              "    <tr>\n",
              "      <th>232067</th>\n",
              "      <td>348100</td>\n",
              "      <td>I’m a fucking scummy person and I can’t change...</td>\n",
              "      <td>suicide</td>\n",
              "    </tr>\n",
              "    <tr>\n",
              "      <th>232068</th>\n",
              "      <td>348101</td>\n",
              "      <td>I did something today I went sledding with my ...</td>\n",
              "      <td>non-suicide</td>\n",
              "    </tr>\n",
              "    <tr>\n",
              "      <th>232069</th>\n",
              "      <td>348103</td>\n",
              "      <td>If you don't like rock then your not going to ...</td>\n",
              "      <td>non-suicide</td>\n",
              "    </tr>\n",
              "    <tr>\n",
              "      <th>232070</th>\n",
              "      <td>348106</td>\n",
              "      <td>You how you can tell i have so many friends an...</td>\n",
              "      <td>non-suicide</td>\n",
              "    </tr>\n",
              "    <tr>\n",
              "      <th>232071</th>\n",
              "      <td>348107</td>\n",
              "      <td>pee probably tastes like salty tea😏💦‼️ can som...</td>\n",
              "      <td>non-suicide</td>\n",
              "    </tr>\n",
              "    <tr>\n",
              "      <th>232072</th>\n",
              "      <td>348108</td>\n",
              "      <td>The usual stuff you find hereI'm not posting t...</td>\n",
              "      <td>suicide</td>\n",
              "    </tr>\n",
              "    <tr>\n",
              "      <th>232073</th>\n",
              "      <td>348110</td>\n",
              "      <td>I still haven't beaten the first boss in Hollo...</td>\n",
              "      <td>non-suicide</td>\n",
              "    </tr>\n",
              "  </tbody>\n",
              "</table>\n",
              "</div>\n",
              "      <button class=\"colab-df-convert\" onclick=\"convertToInteractive('df-dac0f204-5f72-4462-a59d-ae8da6e3b0ed')\"\n",
              "              title=\"Convert this dataframe to an interactive table.\"\n",
              "              style=\"display:none;\">\n",
              "        \n",
              "  <svg xmlns=\"http://www.w3.org/2000/svg\" height=\"24px\"viewBox=\"0 0 24 24\"\n",
              "       width=\"24px\">\n",
              "    <path d=\"M0 0h24v24H0V0z\" fill=\"none\"/>\n",
              "    <path d=\"M18.56 5.44l.94 2.06.94-2.06 2.06-.94-2.06-.94-.94-2.06-.94 2.06-2.06.94zm-11 1L8.5 8.5l.94-2.06 2.06-.94-2.06-.94L8.5 2.5l-.94 2.06-2.06.94zm10 10l.94 2.06.94-2.06 2.06-.94-2.06-.94-.94-2.06-.94 2.06-2.06.94z\"/><path d=\"M17.41 7.96l-1.37-1.37c-.4-.4-.92-.59-1.43-.59-.52 0-1.04.2-1.43.59L10.3 9.45l-7.72 7.72c-.78.78-.78 2.05 0 2.83L4 21.41c.39.39.9.59 1.41.59.51 0 1.02-.2 1.41-.59l7.78-7.78 2.81-2.81c.8-.78.8-2.07 0-2.86zM5.41 20L4 18.59l7.72-7.72 1.47 1.35L5.41 20z\"/>\n",
              "  </svg>\n",
              "      </button>\n",
              "      \n",
              "  <style>\n",
              "    .colab-df-container {\n",
              "      display:flex;\n",
              "      flex-wrap:wrap;\n",
              "      gap: 12px;\n",
              "    }\n",
              "\n",
              "    .colab-df-convert {\n",
              "      background-color: #E8F0FE;\n",
              "      border: none;\n",
              "      border-radius: 50%;\n",
              "      cursor: pointer;\n",
              "      display: none;\n",
              "      fill: #1967D2;\n",
              "      height: 32px;\n",
              "      padding: 0 0 0 0;\n",
              "      width: 32px;\n",
              "    }\n",
              "\n",
              "    .colab-df-convert:hover {\n",
              "      background-color: #E2EBFA;\n",
              "      box-shadow: 0px 1px 2px rgba(60, 64, 67, 0.3), 0px 1px 3px 1px rgba(60, 64, 67, 0.15);\n",
              "      fill: #174EA6;\n",
              "    }\n",
              "\n",
              "    [theme=dark] .colab-df-convert {\n",
              "      background-color: #3B4455;\n",
              "      fill: #D2E3FC;\n",
              "    }\n",
              "\n",
              "    [theme=dark] .colab-df-convert:hover {\n",
              "      background-color: #434B5C;\n",
              "      box-shadow: 0px 1px 3px 1px rgba(0, 0, 0, 0.15);\n",
              "      filter: drop-shadow(0px 1px 2px rgba(0, 0, 0, 0.3));\n",
              "      fill: #FFFFFF;\n",
              "    }\n",
              "  </style>\n",
              "\n",
              "      <script>\n",
              "        const buttonEl =\n",
              "          document.querySelector('#df-dac0f204-5f72-4462-a59d-ae8da6e3b0ed button.colab-df-convert');\n",
              "        buttonEl.style.display =\n",
              "          google.colab.kernel.accessAllowed ? 'block' : 'none';\n",
              "\n",
              "        async function convertToInteractive(key) {\n",
              "          const element = document.querySelector('#df-dac0f204-5f72-4462-a59d-ae8da6e3b0ed');\n",
              "          const dataTable =\n",
              "            await google.colab.kernel.invokeFunction('convertToInteractive',\n",
              "                                                     [key], {});\n",
              "          if (!dataTable) return;\n",
              "\n",
              "          const docLinkHtml = 'Like what you see? Visit the ' +\n",
              "            '<a target=\"_blank\" href=https://colab.research.google.com/notebooks/data_table.ipynb>data table notebook</a>'\n",
              "            + ' to learn more about interactive tables.';\n",
              "          element.innerHTML = '';\n",
              "          dataTable['output_type'] = 'display_data';\n",
              "          await google.colab.output.renderOutput(dataTable, element);\n",
              "          const docLink = document.createElement('div');\n",
              "          docLink.innerHTML = docLinkHtml;\n",
              "          element.appendChild(docLink);\n",
              "        }\n",
              "      </script>\n",
              "    </div>\n",
              "  </div>\n",
              "  "
            ]
          },
          "metadata": {},
          "execution_count": 8
        }
      ],
      "source": [
        "#Imprimir los últimos 12 registros\n",
        "df.tail(12)"
      ]
    },
    {
      "cell_type": "code",
      "execution_count": 9,
      "metadata": {
        "id": "aob6vompNjFI"
      },
      "outputs": [],
      "source": [
        "#Función para quitar espacios y convertir en mayúsculas \n",
        "def limpieza(columna):\n",
        "  x=columna.strip()\n",
        "  y=x.upper()\n",
        "  return y"
      ]
    },
    {
      "cell_type": "code",
      "execution_count": 10,
      "metadata": {
        "colab": {
          "base_uri": "https://localhost:8080/",
          "height": 423
        },
        "id": "C3HgqhmWNl2a",
        "outputId": "f670f3c1-1d0b-455a-b210-3400f5ede9fb"
      },
      "outputs": [
        {
          "output_type": "execute_result",
          "data": {
            "text/plain": [
              "                                                     text        class  target\n",
              "0       Ex Wife Threatening SuicideRecently I left my ...      SUICIDE       1\n",
              "1       Am I weird I don't get affected by compliments...  NON-SUICIDE       0\n",
              "2       Finally 2020 is almost over... So I can never ...  NON-SUICIDE       0\n",
              "3               i need helpjust help me im crying so hard      SUICIDE       1\n",
              "4       I’m so lostHello, my name is Adam (16) and I’v...      SUICIDE       1\n",
              "...                                                   ...          ...     ...\n",
              "232069  If you don't like rock then your not going to ...  NON-SUICIDE       0\n",
              "232070  You how you can tell i have so many friends an...  NON-SUICIDE       0\n",
              "232071  pee probably tastes like salty tea😏💦‼️ can som...  NON-SUICIDE       0\n",
              "232072  The usual stuff you find hereI'm not posting t...      SUICIDE       1\n",
              "232073  I still haven't beaten the first boss in Hollo...  NON-SUICIDE       0\n",
              "\n",
              "[232074 rows x 3 columns]"
            ],
            "text/html": [
              "\n",
              "  <div id=\"df-0477c33b-2ade-453c-b6b0-e275431e879a\">\n",
              "    <div class=\"colab-df-container\">\n",
              "      <div>\n",
              "<style scoped>\n",
              "    .dataframe tbody tr th:only-of-type {\n",
              "        vertical-align: middle;\n",
              "    }\n",
              "\n",
              "    .dataframe tbody tr th {\n",
              "        vertical-align: top;\n",
              "    }\n",
              "\n",
              "    .dataframe thead th {\n",
              "        text-align: right;\n",
              "    }\n",
              "</style>\n",
              "<table border=\"1\" class=\"dataframe\">\n",
              "  <thead>\n",
              "    <tr style=\"text-align: right;\">\n",
              "      <th></th>\n",
              "      <th>text</th>\n",
              "      <th>class</th>\n",
              "      <th>target</th>\n",
              "    </tr>\n",
              "  </thead>\n",
              "  <tbody>\n",
              "    <tr>\n",
              "      <th>0</th>\n",
              "      <td>Ex Wife Threatening SuicideRecently I left my ...</td>\n",
              "      <td>SUICIDE</td>\n",
              "      <td>1</td>\n",
              "    </tr>\n",
              "    <tr>\n",
              "      <th>1</th>\n",
              "      <td>Am I weird I don't get affected by compliments...</td>\n",
              "      <td>NON-SUICIDE</td>\n",
              "      <td>0</td>\n",
              "    </tr>\n",
              "    <tr>\n",
              "      <th>2</th>\n",
              "      <td>Finally 2020 is almost over... So I can never ...</td>\n",
              "      <td>NON-SUICIDE</td>\n",
              "      <td>0</td>\n",
              "    </tr>\n",
              "    <tr>\n",
              "      <th>3</th>\n",
              "      <td>i need helpjust help me im crying so hard</td>\n",
              "      <td>SUICIDE</td>\n",
              "      <td>1</td>\n",
              "    </tr>\n",
              "    <tr>\n",
              "      <th>4</th>\n",
              "      <td>I’m so lostHello, my name is Adam (16) and I’v...</td>\n",
              "      <td>SUICIDE</td>\n",
              "      <td>1</td>\n",
              "    </tr>\n",
              "    <tr>\n",
              "      <th>...</th>\n",
              "      <td>...</td>\n",
              "      <td>...</td>\n",
              "      <td>...</td>\n",
              "    </tr>\n",
              "    <tr>\n",
              "      <th>232069</th>\n",
              "      <td>If you don't like rock then your not going to ...</td>\n",
              "      <td>NON-SUICIDE</td>\n",
              "      <td>0</td>\n",
              "    </tr>\n",
              "    <tr>\n",
              "      <th>232070</th>\n",
              "      <td>You how you can tell i have so many friends an...</td>\n",
              "      <td>NON-SUICIDE</td>\n",
              "      <td>0</td>\n",
              "    </tr>\n",
              "    <tr>\n",
              "      <th>232071</th>\n",
              "      <td>pee probably tastes like salty tea😏💦‼️ can som...</td>\n",
              "      <td>NON-SUICIDE</td>\n",
              "      <td>0</td>\n",
              "    </tr>\n",
              "    <tr>\n",
              "      <th>232072</th>\n",
              "      <td>The usual stuff you find hereI'm not posting t...</td>\n",
              "      <td>SUICIDE</td>\n",
              "      <td>1</td>\n",
              "    </tr>\n",
              "    <tr>\n",
              "      <th>232073</th>\n",
              "      <td>I still haven't beaten the first boss in Hollo...</td>\n",
              "      <td>NON-SUICIDE</td>\n",
              "      <td>0</td>\n",
              "    </tr>\n",
              "  </tbody>\n",
              "</table>\n",
              "<p>232074 rows × 3 columns</p>\n",
              "</div>\n",
              "      <button class=\"colab-df-convert\" onclick=\"convertToInteractive('df-0477c33b-2ade-453c-b6b0-e275431e879a')\"\n",
              "              title=\"Convert this dataframe to an interactive table.\"\n",
              "              style=\"display:none;\">\n",
              "        \n",
              "  <svg xmlns=\"http://www.w3.org/2000/svg\" height=\"24px\"viewBox=\"0 0 24 24\"\n",
              "       width=\"24px\">\n",
              "    <path d=\"M0 0h24v24H0V0z\" fill=\"none\"/>\n",
              "    <path d=\"M18.56 5.44l.94 2.06.94-2.06 2.06-.94-2.06-.94-.94-2.06-.94 2.06-2.06.94zm-11 1L8.5 8.5l.94-2.06 2.06-.94-2.06-.94L8.5 2.5l-.94 2.06-2.06.94zm10 10l.94 2.06.94-2.06 2.06-.94-2.06-.94-.94-2.06-.94 2.06-2.06.94z\"/><path d=\"M17.41 7.96l-1.37-1.37c-.4-.4-.92-.59-1.43-.59-.52 0-1.04.2-1.43.59L10.3 9.45l-7.72 7.72c-.78.78-.78 2.05 0 2.83L4 21.41c.39.39.9.59 1.41.59.51 0 1.02-.2 1.41-.59l7.78-7.78 2.81-2.81c.8-.78.8-2.07 0-2.86zM5.41 20L4 18.59l7.72-7.72 1.47 1.35L5.41 20z\"/>\n",
              "  </svg>\n",
              "      </button>\n",
              "      \n",
              "  <style>\n",
              "    .colab-df-container {\n",
              "      display:flex;\n",
              "      flex-wrap:wrap;\n",
              "      gap: 12px;\n",
              "    }\n",
              "\n",
              "    .colab-df-convert {\n",
              "      background-color: #E8F0FE;\n",
              "      border: none;\n",
              "      border-radius: 50%;\n",
              "      cursor: pointer;\n",
              "      display: none;\n",
              "      fill: #1967D2;\n",
              "      height: 32px;\n",
              "      padding: 0 0 0 0;\n",
              "      width: 32px;\n",
              "    }\n",
              "\n",
              "    .colab-df-convert:hover {\n",
              "      background-color: #E2EBFA;\n",
              "      box-shadow: 0px 1px 2px rgba(60, 64, 67, 0.3), 0px 1px 3px 1px rgba(60, 64, 67, 0.15);\n",
              "      fill: #174EA6;\n",
              "    }\n",
              "\n",
              "    [theme=dark] .colab-df-convert {\n",
              "      background-color: #3B4455;\n",
              "      fill: #D2E3FC;\n",
              "    }\n",
              "\n",
              "    [theme=dark] .colab-df-convert:hover {\n",
              "      background-color: #434B5C;\n",
              "      box-shadow: 0px 1px 3px 1px rgba(0, 0, 0, 0.15);\n",
              "      filter: drop-shadow(0px 1px 2px rgba(0, 0, 0, 0.3));\n",
              "      fill: #FFFFFF;\n",
              "    }\n",
              "  </style>\n",
              "\n",
              "      <script>\n",
              "        const buttonEl =\n",
              "          document.querySelector('#df-0477c33b-2ade-453c-b6b0-e275431e879a button.colab-df-convert');\n",
              "        buttonEl.style.display =\n",
              "          google.colab.kernel.accessAllowed ? 'block' : 'none';\n",
              "\n",
              "        async function convertToInteractive(key) {\n",
              "          const element = document.querySelector('#df-0477c33b-2ade-453c-b6b0-e275431e879a');\n",
              "          const dataTable =\n",
              "            await google.colab.kernel.invokeFunction('convertToInteractive',\n",
              "                                                     [key], {});\n",
              "          if (!dataTable) return;\n",
              "\n",
              "          const docLinkHtml = 'Like what you see? Visit the ' +\n",
              "            '<a target=\"_blank\" href=https://colab.research.google.com/notebooks/data_table.ipynb>data table notebook</a>'\n",
              "            + ' to learn more about interactive tables.';\n",
              "          element.innerHTML = '';\n",
              "          dataTable['output_type'] = 'display_data';\n",
              "          await google.colab.output.renderOutput(dataTable, element);\n",
              "          const docLink = document.createElement('div');\n",
              "          docLink.innerHTML = docLinkHtml;\n",
              "          element.appendChild(docLink);\n",
              "        }\n",
              "      </script>\n",
              "    </div>\n",
              "  </div>\n",
              "  "
            ]
          },
          "metadata": {},
          "execution_count": 10
        }
      ],
      "source": [
        "#A la columna class se le quitan los espacios y se ponen las categorías en mayúsculas\n",
        "df['class']=df['class'].apply(limpieza)\n",
        "df['target'] = np.where(df['class']=='SUICIDE', 1, 0)\n",
        "df=df[['text','class','target']]\n",
        "df"
      ]
    },
    {
      "cell_type": "code",
      "execution_count": 11,
      "metadata": {
        "id": "ZhcszcgANoWt"
      },
      "outputs": [],
      "source": [
        "#Definir tipo de dato de las columnas\n",
        "df = df.astype({'text': 'str','class': 'str','target': 'int64'})"
      ]
    },
    {
      "cell_type": "code",
      "execution_count": 12,
      "metadata": {
        "colab": {
          "base_uri": "https://localhost:8080/"
        },
        "id": "-ndGXGfjm9oo",
        "outputId": "f497056f-dc7d-498a-9ecc-d7464858e107"
      },
      "outputs": [
        {
          "output_type": "execute_result",
          "data": {
            "text/plain": [
              "str"
            ]
          },
          "metadata": {},
          "execution_count": 12
        }
      ],
      "source": [
        "#Verificar el tipo de las variables \n",
        "type(df['text'][1])"
      ]
    },
    {
      "cell_type": "code",
      "execution_count": 13,
      "metadata": {
        "colab": {
          "base_uri": "https://localhost:8080/",
          "height": 299
        },
        "id": "Hpvb-FZaNqUC",
        "outputId": "0a19e236-77a6-43bd-c65f-1d5a64eb0508"
      },
      "outputs": [
        {
          "output_type": "execute_result",
          "data": {
            "text/plain": [
              "(232074, 3)"
            ]
          },
          "metadata": {},
          "execution_count": 13
        },
        {
          "output_type": "display_data",
          "data": {
            "text/plain": [
              "<Figure size 432x288 with 1 Axes>"
            ],
            "image/png": "[encoded data removed]"
          },
          "metadata": {
            "needs_background": "light"
          }
        }
      ],
      "source": [
        "#Revisar la cantidad de noticias verdaderes (1) y falsas (0)\n",
        "df.target.plot(kind='hist', title='target distribution')\n",
        "df.shape"
      ]
    },
    {
      "cell_type": "code",
      "execution_count": 14,
      "metadata": {
        "colab": {
          "base_uri": "https://localhost:8080/"
        },
        "id": "vQ9rd3hmNs2h",
        "outputId": "90db4876-a018-4041-8c66-012051c42ff9"
      },
      "outputs": [
        {
          "output_type": "execute_result",
          "data": {
            "text/plain": [
              "((208866, 3), (11604, 3), (10443, 3))"
            ]
          },
          "metadata": {},
          "execution_count": 14
        }
      ],
      "source": [
        "train_df, remaining = train_test_split(df, random_state=42, train_size=0.9, stratify=df.target.values)\n",
        "valid_df, remaining2 = train_test_split(remaining, random_state=42, train_size=0.5, stratify=remaining.target.values)\n",
        "test_df, _  = train_test_split(remaining2, random_state=42, train_size=0.9, stratify=remaining2.target.values)\n",
        "\n",
        "train_df.shape, valid_df.shape, test_df.shape"
      ]
    },
    {
      "cell_type": "code",
      "execution_count": 15,
      "metadata": {
        "colab": {
          "base_uri": "https://localhost:8080/"
        },
        "id": "sxlIEZJzN4Rz",
        "outputId": "6d710644-ab07-48d7-eec6-f4b29231f27e"
      },
      "outputs": [
        {
          "output_type": "stream",
          "name": "stdout",
          "text": [
            "tf.Tensor(b'Most of the \"gifted\" kids now have at least one mental illness. Telling a kid that they\\'re gifted is basically like \"wow you\\'re only 11 and you already lost half your serotonin\", change my mind That being said, what is your diagnosis bro?', shape=(), dtype=string)\n",
            "tf.Tensor(0, shape=(), dtype=int64)\n",
            "tf.Tensor(b'Leading someone on is worse than rejecting them Even ghosting someone is better then leading them on, so to any of u mfs leading on multiple people either ghost them or tell them ur not interested for me pls', shape=(), dtype=string)\n",
            "tf.Tensor(0, shape=(), dtype=int64)\n",
            "tf.Tensor(b\"I Am A MistakeI'll never have friends. I'll never have a gf. I'll never be employed by anyone. I'll never make anyone proud. I'll never succeed at anything. I'll never be anything other then a fat grotesque slob nobody wants to be seen dead with. I'll never have amazing experiences. I'll never travel to amazing places. \\nI'm sure, for most people, it gets better. They find people in their lives who show them they don't have to continue being hopelessly alone, they find a purpose, something to get out of bed for. I am not most people. My entire life has been a huge mistake, and I don't know if I can carry on living with this overwhelming sense of shame much longer. I keep fantasising about suicide but I'm so scared of the pain... of something going wrong and having to face people who I would have hurt irrevocably... of eternal nothingness... I wish something would just take me, a sudden illness, a knife-wielding maniac... something that takes my fate out of my hands... \", shape=(), dtype=string)\n",
            "tf.Tensor(1, shape=(), dtype=int64)\n",
            "tf.Tensor(b\"Unpopular opinion: Kingdom Of The Crystal Skull is the worst Indiana Jones movie I don't care what all of you say, that nuclear fridge shit was stupid\", shape=(), dtype=string)\n",
            "tf.Tensor(0, shape=(), dtype=int64)\n",
            "tf.Tensor(b\"I'm so lonely and I can't take itNo one ever seems to want to talk to me and it makes me feel like shit. I just wish someone cared\", shape=(), dtype=string)\n",
            "tf.Tensor(1, shape=(), dtype=int64)\n"
          ]
        }
      ],
      "source": [
        "with tf.device('/cpu:0'):\n",
        "  train_data = tf.data.Dataset.from_tensor_slices((train_df['text'].values, train_df['target'].values))\n",
        "  valid_data = tf.data.Dataset.from_tensor_slices((valid_df['text'].values, valid_df['target'].values))\n",
        "  test_data =  tf.data.Dataset.from_tensor_slices((test_df['text'].values, test_df['target'].values)) \n",
        "  for text, label in train_data.take(5):\n",
        "    print(text)\n",
        "    print(label)  \n",
        "    "
      ]
    },
    {
      "cell_type": "code",
      "execution_count": 16,
      "metadata": {
        "id": "9WJ78Y2OOgR_"
      },
      "outputs": [],
      "source": [
        "\"\"\"\n",
        "Cada registro del conjunto de datos se compone, del texto y de su etiqueta\n",
        "- El procesamiento de datos, consiste en transformar el texto a:\n",
        "input_word_ids, input_mask, segment_ids que son los elementos de entrada del modelo BERT. \n",
        "- La tokenización de los textos se hace mendiante el tokenizador del modelo BERT.\n",
        "\"\"\"\n",
        " # Etiquetas de las categorías\n",
        " # 1 - Noticia verdadera\n",
        " # 0 - Noticia false\n",
        "label_list = [0,1]\n",
        "\n",
        " # Definición del tamaño del token\n",
        "max_seq_length = 128\n",
        "#Definición del tamaño del lote\n",
        "train_batch_size = 32\n",
        "\n",
        "# Carga del modelo preentrenado y el tokenizador del modelo \n",
        "bert_layer = hub.KerasLayer('https://tfhub.dev/tensorflow/bert_en_uncased_L-12_H-768_A-12/2', trainable=True)\n",
        "vocab_file = bert_layer.resolved_object.vocab_file.asset_path.numpy()\n",
        "do_lower_case = bert_layer.resolved_object.do_lower_case.numpy()\n",
        "tokenizer = tokenization.FullTokenizer(vocab_file, do_lower_case)"
      ]
    },
    {
      "cell_type": "code",
      "execution_count": 17,
      "metadata": {
        "colab": {
          "base_uri": "https://localhost:8080/"
        },
        "id": "G04YlgPgOrJI",
        "outputId": "86856aba-82a5-40cb-b1d9-1f058e1dc538"
      },
      "outputs": [
        {
          "output_type": "execute_result",
          "data": {
            "text/plain": [
              "['hi', '##,', 'how', 'are', 'you', 'doing', '##?']"
            ]
          },
          "metadata": {},
          "execution_count": 17
        }
      ],
      "source": [
        "tokenizer.wordpiece_tokenizer.tokenize('hi, how are you doing?')"
      ]
    },
    {
      "cell_type": "code",
      "execution_count": 18,
      "metadata": {
        "colab": {
          "base_uri": "https://localhost:8080/"
        },
        "id": "gOd4sQAzOuG8",
        "outputId": "d6d70abf-62cc-4c85-def2-d2d937408fcd"
      },
      "outputs": [
        {
          "output_type": "execute_result",
          "data": {
            "text/plain": [
              "[7632, 29623, 2129, 2024, 2017, 2725, 29632]"
            ]
          },
          "metadata": {},
          "execution_count": 18
        }
      ],
      "source": [
        "tokenizer.convert_tokens_to_ids(tokenizer.wordpiece_tokenizer.tokenize('hi, how are you doing?'))"
      ]
    },
    {
      "cell_type": "code",
      "execution_count": 19,
      "metadata": {
        "id": "0TZdA5d_Oxup"
      },
      "outputs": [],
      "source": [
        "# La siguientes funciones convierte el texto en features de entrada con su respectiva etiqueta\n",
        "\n",
        "def to_feature(text, label, label_list=label_list, max_seq_length=max_seq_length, tokenizer=tokenizer):\n",
        "  example = classifier_data_lib.InputExample(guid=None,\n",
        "                                             text_a = text.numpy(),\n",
        "                                             text_b = None,\n",
        "                                             label = label.numpy())\n",
        "  feature = classifier_data_lib.convert_single_example(0, example, label_list, max_seq_length, tokenizer)\n",
        "  return (feature.input_ids, feature.input_mask, feature.segment_ids, feature.label_id)"
      ]
    },
    {
      "cell_type": "code",
      "execution_count": 20,
      "metadata": {
        "id": "fylZ1sugO05G"
      },
      "outputs": [],
      "source": [
        "def to_feature_map(text, label):\n",
        "  input_ids, input_mask, segment_ids, label_id = tf.py_function(to_feature, inp=[text,label], Tout=[tf.int32, tf.int32, tf.int32, tf.int32])\n",
        "  input_ids.set_shape([max_seq_length])\n",
        "  input_mask.set_shape([max_seq_length])\n",
        "  segment_ids.set_shape([max_seq_length])\n",
        "  label_id.set_shape([])\n",
        "  x = {'input_words_ids' : input_ids,\n",
        "       'input_mask': input_mask,\n",
        "       'input_type_id': segment_ids\n",
        "       }  \n",
        "  return (x, label_id)"
      ]
    },
    {
      "cell_type": "code",
      "execution_count": 21,
      "metadata": {
        "id": "ezpexWJvO7Mm"
      },
      "outputs": [],
      "source": [
        "with tf.device('/cpu:0'):\n",
        "  # Data de entrenamiento\n",
        "  train_data = (train_data.map(to_feature_map,\n",
        "                               num_parallel_calls=tf.data.experimental.AUTOTUNE)\n",
        "  .shuffle(1000)\n",
        "  .batch(32, drop_remainder=True)        \n",
        "  .prefetch(tf.data.experimental.AUTOTUNE))\n",
        "\n",
        "  # Data de validación\n",
        "  valid_data = (valid_data.map(to_feature_map,\n",
        "                               num_parallel_calls=tf.data.experimental.AUTOTUNE)\n",
        "  .batch(32, drop_remainder=True)        \n",
        "  .prefetch(tf.data.experimental.AUTOTUNE))\n",
        "\n",
        "  #Data de prueba\n",
        "  test_data = (test_data.map(to_feature_map,\n",
        "                               num_parallel_calls=tf.data.experimental.AUTOTUNE)\n",
        "  .batch(32, drop_remainder=True)        \n",
        "  .prefetch(tf.data.experimental.AUTOTUNE))"
      ]
    },
    {
      "cell_type": "code",
      "execution_count": 22,
      "metadata": {
        "colab": {
          "base_uri": "https://localhost:8080/"
        },
        "id": "VHRtyMH0PC9D",
        "outputId": "6050b312-540e-46e9-d9bb-592b5ee05d38"
      },
      "outputs": [
        {
          "output_type": "execute_result",
          "data": {
            "text/plain": [
              "({'input_mask': TensorSpec(shape=(32, 128), dtype=tf.int32, name=None),\n",
              "  'input_type_id': TensorSpec(shape=(32, 128), dtype=tf.int32, name=None),\n",
              "  'input_words_ids': TensorSpec(shape=(32, 128), dtype=tf.int32, name=None)},\n",
              " TensorSpec(shape=(32,), dtype=tf.int32, name=None))"
            ]
          },
          "metadata": {},
          "execution_count": 22
        }
      ],
      "source": [
        "# Especificaciones de la data de entrenamiento\n",
        "train_data.element_spec"
      ]
    },
    {
      "cell_type": "code",
      "execution_count": 23,
      "metadata": {
        "colab": {
          "base_uri": "https://localhost:8080/"
        },
        "id": "BjqTHb4WPLFB",
        "outputId": "db165301-6264-4f73-8945-97aba79f58d0"
      },
      "outputs": [
        {
          "output_type": "execute_result",
          "data": {
            "text/plain": [
              "({'input_mask': TensorSpec(shape=(32, 128), dtype=tf.int32, name=None),\n",
              "  'input_type_id': TensorSpec(shape=(32, 128), dtype=tf.int32, name=None),\n",
              "  'input_words_ids': TensorSpec(shape=(32, 128), dtype=tf.int32, name=None)},\n",
              " TensorSpec(shape=(32,), dtype=tf.int32, name=None))"
            ]
          },
          "metadata": {},
          "execution_count": 23
        }
      ],
      "source": [
        "#Especificaciones de la data de validación\n",
        "valid_data.element_spec"
      ]
    },
    {
      "cell_type": "code",
      "execution_count": 24,
      "metadata": {
        "colab": {
          "base_uri": "https://localhost:8080/"
        },
        "id": "Un_DJUYiPMmf",
        "outputId": "48f95534-e738-4d45-836e-01acbd4c844d"
      },
      "outputs": [
        {
          "output_type": "execute_result",
          "data": {
            "text/plain": [
              "({'input_mask': TensorSpec(shape=(32, 128), dtype=tf.int32, name=None),\n",
              "  'input_type_id': TensorSpec(shape=(32, 128), dtype=tf.int32, name=None),\n",
              "  'input_words_ids': TensorSpec(shape=(32, 128), dtype=tf.int32, name=None)},\n",
              " TensorSpec(shape=(32,), dtype=tf.int32, name=None))"
            ]
          },
          "metadata": {},
          "execution_count": 24
        }
      ],
      "source": [
        "#Especificaciones de la data de test\n",
        "test_data.element_spec"
      ]
    },
    {
      "cell_type": "code",
      "execution_count": 25,
      "metadata": {
        "id": "Cc0UOP9rPQNT"
      },
      "outputs": [],
      "source": [
        "# Construyendo la capa personalizada del modelo\n",
        "def create_model():\n",
        "  input_words_ids = tf.keras.layers.Input(shape=(max_seq_length,), dtype=tf.int32, name=\"input_words_ids\")\n",
        "  input_mask = tf.keras.layers.Input(shape=(max_seq_length,), dtype=tf.int32, name=\"input_mask\")\n",
        "  input_type_id = tf.keras.layers.Input(shape=(max_seq_length,), dtype=tf.int32, name=\"input_type_id\")\n",
        "  pooled_output, sequence_output = bert_layer([input_words_ids, input_mask, input_type_id])\n",
        "  drop = tf.keras.layers.Dropout(0.4)(pooled_output)\n",
        "  output = tf.keras.layers.Dense(1, activation='sigmoid', name='output')(drop)\n",
        "  model = tf.keras.Model(\n",
        "           inputs = {\n",
        "               'input_words_ids': input_words_ids,\n",
        "               'input_mask': input_mask,\n",
        "               'input_type_id': input_type_id          \n",
        "           },\n",
        "           outputs = output )\n",
        "  return model"
      ]
    },
    {
      "cell_type": "code",
      "execution_count": 26,
      "metadata": {
        "colab": {
          "base_uri": "https://localhost:8080/"
        },
        "id": "FrtzJnapPXJD",
        "outputId": "5811fbe9-8a6c-4547-80da-54d952a14934"
      },
      "outputs": [
        {
          "output_type": "stream",
          "name": "stdout",
          "text": [
            "Model: \"model\"\n",
            "__________________________________________________________________________________________________\n",
            " Layer (type)                   Output Shape         Param #     Connected to                     \n",
            "==================================================================================================\n",
            " input_words_ids (InputLayer)   [(None, 128)]        0           []                               \n",
            "                                                                                                  \n",
            " input_mask (InputLayer)        [(None, 128)]        0           []                               \n",
            "                                                                                                  \n",
            " input_type_id (InputLayer)     [(None, 128)]        0           []                               \n",
            "                                                                                                  \n",
            " keras_layer (KerasLayer)       [(None, 768),        109482241   ['input_words_ids[0][0]',        \n",
            "                                 (None, 128, 768)]                'input_mask[0][0]',             \n",
            "                                                                  'input_type_id[0][0]']          \n",
            "                                                                                                  \n",
            " dropout (Dropout)              (None, 768)          0           ['keras_layer[0][0]']            \n",
            "                                                                                                  \n",
            " output (Dense)                 (None, 1)            769         ['dropout[0][0]']                \n",
            "                                                                                                  \n",
            "==================================================================================================\n",
            "Total params: 109,483,010\n",
            "Trainable params: 109,483,009\n",
            "Non-trainable params: 1\n",
            "__________________________________________________________________________________________________\n"
          ]
        }
      ],
      "source": [
        "model = create_model()\n",
        "model.compile(optimizer=tf.keras.optimizers.Adam(learning_rate=2e-5),\n",
        "              loss=tf.keras.losses.BinaryCrossentropy(),\n",
        "              metrics=[tf.keras.metrics.BinaryAccuracy()])\n",
        "model.summary()"
      ]
    },
    {
      "cell_type": "code",
      "execution_count": null,
      "metadata": {
        "id": "-jb01IBLsJDd"
      },
      "outputs": [],
      "source": [
        ""
      ]
    },
    {
      "cell_type": "code",
      "execution_count": 27,
      "metadata": {
        "colab": {
          "base_uri": "https://localhost:8080/",
          "height": 330
        },
        "id": "20ZiDroLPdRD",
        "outputId": "6770641b-b54a-49c2-c3c1-e4fa7f8c5946"
      },
      "outputs": [
        {
          "output_type": "execute_result",
          "data": {
            "text/plain": [
              "<IPython.core.display.Image object>"
            ],
            "image/png": "[encoded data removed]"
          },
          "metadata": {},
          "execution_count": 27
        }
      ],
      "source": [
        "tf.keras.utils.plot_model(model=model, show_shapes=True, dpi=76)"
      ]
    },
    {
      "cell_type": "code",
      "execution_count": 28,
      "metadata": {
        "id": "T-bWlMw1Pere"
      },
      "outputs": [],
      "source": [
        "# Usar la parada temprana para parar el entrenamiento si la pérdida en validación no baja después de un cierto número de epochs \n",
        "earlystopping = EarlyStopping(monitor='val_loss', mode='min', verbose=1, patience=20)\n",
        "\n",
        "# Guardamos el modelo con menor error de validación\n",
        "checkpointer = ModelCheckpoint(filepath=\"/content/gdrive/MyDrive/Proyecto NLP/Bert-weights_Clasification.hdf5\", verbose=1, save_best_only=True)"
      ]
    },
    {
      "cell_type": "markdown",
      "metadata": {
        "id": "1R_3TkxrPl8d"
      },
      "source": [
        "#13. Cargar el modelo entrenado y evaluar la calidad del modelo\n"
      ]
    },
    {
      "cell_type": "code",
      "execution_count": 29,
      "metadata": {
        "id": "PX0MtVolPiiR"
      },
      "outputs": [],
      "source": [
        "model = tf.keras.models.load_model(('/content/gdrive/MyDrive/NLP/Proyecto_de_NLP_manu/Proyecto_NLP_Suicide_Detection_manu/Proyecto_NLP_Suicide_Detection/Bert-weights_Clasification.hdf5'), custom_objects={'KerasLayer':hub.KerasLayer})"
      ]
    },
    {
      "cell_type": "code",
      "execution_count": 30,
      "metadata": {
        "id": "B1L9R-bzQY7i"
      },
      "outputs": [],
      "source": [
        "#Hacemos la predicción\n",
        "test_predict = model.predict(test_data)\n"
      ]
    },
    {
      "cell_type": "code",
      "execution_count": 31,
      "metadata": {
        "colab": {
          "base_uri": "https://localhost:8080/"
        },
        "id": "FaqGBV79dEvu",
        "outputId": "8182697c-a193-4436-c199-01b59747a0c3"
      },
      "outputs": [
        {
          "output_type": "execute_result",
          "data": {
            "text/plain": [
              "array([[0.9999831 ],\n",
              "       [0.999211  ],\n",
              "       [0.9999875 ],\n",
              "       ...,\n",
              "       [0.9999746 ],\n",
              "       [0.03605556],\n",
              "       [0.00125417]], dtype=float32)"
            ]
          },
          "metadata": {},
          "execution_count": 31
        }
      ],
      "source": [
        "test_predict"
      ]
    },
    {
      "cell_type": "code",
      "execution_count": 32,
      "metadata": {
        "id": "R3AqaYXWyW4N"
      },
      "outputs": [],
      "source": [
        "# Dado que usamos la función de activación sigmoide al final, nuestro resultado contiene valores continuos de 0 a 1.\n",
        "# La red se usa  para clasificar si el twwet tiene tendencias suicidas o no\n",
        "\n",
        "predict = []\n",
        "\n",
        "##Menor a 0.5 es porque es cero, es decir no hay tendencias suicidas\n",
        "##mayor a 0.5 es porque es uno, es decir hay tendencias suicidas\n",
        "for i in test_predict:\n",
        "  if i < 0.5: \n",
        "    predict.append(0)\n",
        "  else:\n",
        "    predict.append(1)\n",
        "\n",
        "predict = np.asarray(predict)"
      ]
    },
    {
      "cell_type": "code",
      "execution_count": 33,
      "metadata": {
        "colab": {
          "base_uri": "https://localhost:8080/"
        },
        "id": "FdqgUUeXytFE",
        "outputId": "5f49c84b-7792-4638-bd68-477e11783bdd"
      },
      "outputs": [
        {
          "output_type": "execute_result",
          "data": {
            "text/plain": [
              "10432"
            ]
          },
          "metadata": {},
          "execution_count": 33
        }
      ],
      "source": [
        "len(predict)"
      ]
    },
    {
      "cell_type": "code",
      "execution_count": 34,
      "metadata": {
        "colab": {
          "base_uri": "https://localhost:8080/"
        },
        "id": "AcQ26i0AyvPX",
        "outputId": "bbda137c-9cbb-49b7-f08f-e27549d3ed54"
      },
      "outputs": [
        {
          "output_type": "execute_result",
          "data": {
            "text/plain": [
              "10432"
            ]
          },
          "metadata": {},
          "execution_count": 34
        }
      ],
      "source": [
        "# \n",
        "original = np.asarray(test_df.target)[:10432]\n",
        "len(original)"
      ]
    },
    {
      "cell_type": "code",
      "execution_count": 35,
      "metadata": {
        "colab": {
          "base_uri": "https://localhost:8080/"
        },
        "id": "HWEfrO_kyxk9",
        "outputId": "a821a468-ef52-443d-f1dd-cbd5747a862b"
      },
      "outputs": [
        {
          "output_type": "execute_result",
          "data": {
            "text/plain": [
              "0.970954754601227"
            ]
          },
          "metadata": {},
          "execution_count": 35
        }
      ],
      "source": [
        "# Buscamos la accuracy del modelo\n",
        "from sklearn.metrics import accuracy_score\n",
        "accuracy = accuracy_score(original, predict)\n",
        "accuracy"
      ]
    },
    {
      "cell_type": "code",
      "execution_count": 36,
      "metadata": {
        "colab": {
          "base_uri": "https://localhost:8080/",
          "height": 428
        },
        "id": "r5d92OFiyz91",
        "outputId": "3183ccc1-ec54-4497-85bd-95575fbf7af5"
      },
      "outputs": [
        {
          "output_type": "display_data",
          "data": {
            "text/plain": [
              "<Figure size 504x504 with 2 Axes>"
            ],
            "image/png": "[encoded data removed]"
          },
          "metadata": {
            "needs_background": "light"
          }
        }
      ],
      "source": [
        "# Representamos la matriz de confusión\n",
        "import seaborn as sns # Para realización de gráficos\n",
        "import matplotlib.pyplot as plt # Para realización de gráficos\n",
        "from sklearn.metrics import confusion_matrix\n",
        "\n",
        "cm = confusion_matrix(original, predict)\n",
        "plt.figure(figsize = (7,7))\n",
        "sns.heatmap(cm, annot=True)\n",
        "plt.show()"
      ]
    },
    {
      "cell_type": "code",
      "execution_count": 37,
      "metadata": {
        "colab": {
          "base_uri": "https://localhost:8080/",
          "height": 279
        },
        "id": "NzCG6jw4y2p-",
        "outputId": "7330ac55-7c4e-4bc6-b8dd-cb9791f2835f"
      },
      "outputs": [
        {
          "output_type": "display_data",
          "data": {
            "text/plain": [
              "<Figure size 432x288 with 2 Axes>"
            ],
            "image/png": "[encoded data removed]"
          },
          "metadata": {
            "needs_background": "light"
          }
        }
      ],
      "source": [
        "import matplotlib.pyplot as plt\n",
        "from sklearn.datasets import make_classification\n",
        "from sklearn.metrics import ConfusionMatrixDisplay\n",
        "from sklearn.model_selection import train_test_split\n",
        "from sklearn.svm import SVC\n",
        "ConfusionMatrixDisplay.from_predictions(original, predict)\n",
        "plt.show()"
      ]
    },
    {
      "cell_type": "code",
      "execution_count": 38,
      "metadata": {
        "id": "mS3jw7HQzF9m"
      },
      "outputs": [],
      "source": [
        "##Filtrar los de la categoría suicide\n",
        "df2=df['class'] == 'SUICIDE'\n",
        "df3=df[df2]\n",
        "df3=df3.reset_index()\n",
        "df3=df3[['text','class','target']]\n",
        "#Seleccionar la columna de texto \n",
        "df4=df3.text\n",
        "\n",
        "#Convertir a lista\n",
        "tweets_en_lista=df4.to_numpy().tolist()"
      ]
    },
    {
      "cell_type": "code",
      "execution_count": null,
      "metadata": {
        "id": "xXQb-vKAzIM9"
      },
      "outputs": [],
      "source": [
        "##Obtener la probabilidad de todos los tweets\n",
        "test_data = tf.data.Dataset.from_tensor_slices((tweets_en_lista, [1]*len(tweets_en_lista)))\n",
        "test_data = test_d\n",
        "ata.map(to_feature_map).batch(1)\n",
        "\n",
        "preds = model.predict(test_data)\n",
        "preds \n",
        "\n",
        "type(preds)\n",
        "\n",
        "\n",
        "\n"
      ]
    }
  ],
  "metadata": {
    "colab": {
      "collapsed_sections": [],
      "name": "Proyecto_PLN_Deteccion_suicidios_manu.ipynb",
      "provenance": [],
      "authorship_tag": "ABX9TyO4X8LlXHi1TYSWjOnQwKPU",
      "include_colab_link": true
    },
    "gpuClass": "standard",
    "kernelspec": {
      "display_name": "Python 3",
      "name": "python3"
    },
    "language_info": {
      "name": "python"
    }
  },
  "nbformat": 4,
  "nbformat_minor": 0
}